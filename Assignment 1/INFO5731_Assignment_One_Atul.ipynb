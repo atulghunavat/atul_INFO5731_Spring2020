{
  "nbformat": 4,
  "nbformat_minor": 0,
  "metadata": {
    "colab": {
      "name": "INFO5731_Assignment_One_Atul.ipynb",
      "provenance": [],
      "collapsed_sections": [],
      "include_colab_link": true
    },
    "kernelspec": {
      "name": "python3",
      "display_name": "Python 3"
    }
  },
  "cells": [
    {
      "cell_type": "markdown",
      "metadata": {
        "id": "view-in-github",
        "colab_type": "text"
      },
      "source": [
        "<a href=\"https://colab.research.google.com/github/atulghunavat/atul_INFO5731_Spring2020/blob/master/Assignment_1/INFO5731_Assignment_One_Atul.ipynb\" target=\"_parent\"><img src=\"https://colab.research.google.com/assets/colab-badge.svg\" alt=\"Open In Colab\"/></a>"
      ]
    },
    {
      "cell_type": "markdown",
      "metadata": {
        "id": "Ryk8D1Q4Wsrp",
        "colab_type": "text"
      },
      "source": [
        "# **INFO5731 Assignment One**"
      ]
    },
    {
      "cell_type": "markdown",
      "metadata": {
        "id": "90_NR8c5XGWc",
        "colab_type": "text"
      },
      "source": [
        "# Question 1\n",
        "\n",
        "(20 points). Write a Python program to generate 12 random numbers between 1 and 100. Sort the list of numbers in ascending order and print it out. Sort the list of numbers in descending order and print it out. Calculate the average for the group and print it out."
      ]
    },
    {
      "cell_type": "code",
      "metadata": {
        "id": "5QX6bJjGWXY9",
        "colab_type": "code",
        "outputId": "e3236962-3736-4442-c39f-8b31165fbdfd",
        "colab": {
          "base_uri": "https://localhost:8080/",
          "height": 70
        }
      },
      "source": [
        "import random\n",
        "from past.builtins import xrange\n",
        "\n",
        "def average(randomlist):\n",
        "  return sum(randomlist) / len(randomlist)\n",
        "\n",
        "\n",
        "random_list = random.sample(xrange(1, 101), 12)\n",
        "\n",
        "random_list.sort()\n",
        "print('List of numbers in ascending order: [' + ', '.join(str(x) for x in random_list) + ']')\n",
        "random_list.sort(reverse=True)\n",
        "print('List of numbers in descending order: [' + ', '.join(str(x) for x in random_list) + ']')\n",
        "average = average(random_list)\n",
        "print(\"Average for the group: \" + str(average))\n"
      ],
      "execution_count": 110,
      "outputs": [
        {
          "output_type": "stream",
          "text": [
            "List of numbers in ascending order: [6, 28, 29, 39, 47, 54, 62, 77, 78, 84, 85, 91]\n",
            "List of numbers in descending order: [91, 85, 84, 78, 77, 62, 54, 47, 39, 29, 28, 6]\n",
            "Average for the group: 56.666666666666664\n"
          ],
          "name": "stdout"
        }
      ]
    },
    {
      "cell_type": "markdown",
      "metadata": {
        "id": "1F_PZdH9Sh49",
        "colab_type": "text"
      },
      "source": [
        "# Question 2\n",
        "(25 points). Write a program that will do the following string formatting tasks:\n",
        "\n",
        "(1) Ask the user to enter two sentences.\n",
        "\n",
        "(2) Make each sentence into a list. Each element in the list should correspond to a word in the sentence. For example, if the sentence is \"Alas! Am I alive? This is my first python program\", the program should print out ['Alas, '!', 'Am', 'I', 'alive, '?', 'This', 'is', 'my', 'first', 'python', 'program'].\n",
        "\n",
        "(3) Compare the two sentences. Print out a list of words that occur in both sentences.\n",
        "\n",
        "(4) Remove any punctuation from the sentence and print it back out. It should remove at least the following characters, but it can remove more: period(“.”), comma (“,”), semicolon (“;”), and colon (“:”)\n",
        "\n",
        "(5) Count the number of vowels in the sentences. Print out each vowel and the number of times it appears in the sentences, such as: a:2, e:1, i:0, etc"
      ]
    },
    {
      "cell_type": "code",
      "metadata": {
        "id": "Y0oOSlsOS0cq",
        "colab_type": "code",
        "outputId": "468c0649-181d-4231-f016-89d066d21817",
        "colab": {
          "base_uri": "https://localhost:8080/",
          "height": 372
        }
      },
      "source": [
        "\n",
        "import re\n",
        "\n",
        "#1\n",
        "\n",
        "sent1 = input('Enter your first sentence: ')\n",
        "sent2 = input('Enter your second sentence: ')\n",
        "\n",
        "#2\n",
        "\n",
        "list1 = [c.strip() for c in re.split('(\\W+)' , sent1) if c.strip() != '']\n",
        "list2 = [c.strip() for c in re.split('(\\W+)' , sent2) if c.strip() != '']\n",
        "\n",
        "print()\n",
        "print('Both sentences in list:')\n",
        "print(list1)\n",
        "print(list2)\n",
        "\n",
        "\n",
        "#3\n",
        "\n",
        "def common_words(a, b): \n",
        "      \n",
        "    a_set = set(a) \n",
        "    b_set = set(b) \n",
        "    common_set = a_set.intersection(b_set)\n",
        "    # check length  \n",
        "    if len(common_set) > 0: \n",
        "        return(common_set)   \n",
        "    else: \n",
        "        return(\"no common words found\") \n",
        "\n",
        "print()\n",
        "print('Common words: ')\n",
        "print(common_words(list1, list2))\n",
        "\n",
        "#4\n",
        "\n",
        "s1 = re.sub('[^A-Za-z0-9 ]+', '', sent1)\n",
        "s2 = re.sub('[^A-Za-z0-9 ]+', '', sent2)\n",
        "\n",
        "print()\n",
        "print('After removing punctiation')\n",
        "print('Sentence 1: ', s1)\n",
        "print('Sentence 2:', s2)\n",
        "print()\n",
        "\n",
        "\n",
        "#5\n",
        "\n",
        "counts = {i:0 for i in 'aeiou'}\n",
        "sent = sent1 + sent2\n",
        "for char in sent.lower():\n",
        "      if char in counts:\n",
        "       counts[char] += 1\n",
        "\n",
        "print('Number of vowels: ')\n",
        "for key,value in counts.items():\n",
        "   print(key, value)\n"
      ],
      "execution_count": 104,
      "outputs": [
        {
          "output_type": "stream",
          "text": [
            "Enter your first sentence: Wow, I completed my python program.\n",
            "Enter your second sentence: Alas! Am I alive? This is my first python program\n",
            "\n",
            "Both sentences in list:\n",
            "['Wow', ',', 'I', 'completed', 'my', 'python', 'program', '.']\n",
            "['Alas', '!', 'Am', 'I', 'alive', '?', 'This', 'is', 'my', 'first', 'python', 'program']\n",
            "\n",
            "Common words: \n",
            "{'my', 'python', 'I', 'program'}\n",
            "\n",
            "After removing punctiation\n",
            "Sentence 1:  Wow I completed my python program\n",
            "Sentence 2: Alas Am I alive This is my first python program\n",
            "\n",
            "Number of vowels: \n",
            "a 6\n",
            "e 3\n",
            "i 6\n",
            "o 6\n",
            "u 0\n"
          ],
          "name": "stdout"
        }
      ]
    },
    {
      "cell_type": "markdown",
      "metadata": {
        "id": "CmFoI4jDS9nx",
        "colab_type": "text"
      },
      "source": [
        "# Question 3 \n",
        "\n",
        "(15 points). The formula that describes the volume V of a sphere with radius r is the following:\n",
        "\n",
        "$ V=\\frac{4}{3}\\ast\\ \\pi\\ast\\ r^3 $\n",
        "\n",
        "Write a program to calculate the value of V when r is in the range of 1–10. Output the result in the following format:\n",
        "\n",
        "\tr\tV\n",
        "\t1\t…\n",
        "\t2\t…\n",
        "\t3\t…\n"
      ]
    },
    {
      "cell_type": "code",
      "metadata": {
        "id": "pEyqeioAT95b",
        "colab_type": "code",
        "colab": {
          "base_uri": "https://localhost:8080/",
          "height": 248
        },
        "outputId": "081656f6-bee1-4893-d7d2-3c5bc0749b10"
      },
      "source": [
        "import math\n",
        "from tabulate import tabulate\n",
        "\n",
        "volume = {}\n",
        "volumeList = []\n",
        "volumeList.append(('r','V'))\n",
        "for r in range(1, 11):\n",
        "\n",
        "  volume[r] = (4/3) *math.pi * pow(r, 3)\n",
        "\n",
        "for r,v in volume.items():\n",
        "  volumeList.append((r, v))\n",
        "print(tabulate(volumeList))\n"
      ],
      "execution_count": 109,
      "outputs": [
        {
          "output_type": "stream",
          "text": [
            "--  ------------------\n",
            "r   V\n",
            "1   4.1887902047863905\n",
            "2   33.510321638291124\n",
            "3   113.09733552923254\n",
            "4   268.082573106329\n",
            "5   523.5987755982989\n",
            "6   904.7786842338603\n",
            "7   1436.7550402417319\n",
            "8   2144.660584850632\n",
            "9   3053.6280592892786\n",
            "10  4188.790204786391\n",
            "--  ------------------\n"
          ],
          "name": "stdout"
        }
      ]
    },
    {
      "cell_type": "markdown",
      "metadata": {
        "id": "z3tBE7E-Xn5X",
        "colab_type": "text"
      },
      "source": [
        "# Question 4\n",
        "\n",
        "(40 points). In the field of Data Science, data is often formatted as a comma-delimited (CSV) file, where each line in a file corresponds to a field's value. Refer to Chapter 9 (p. 106) for more information on comma-delimited files. To answer this question, you will need to download the file [Assignment1_denton_housing.csv](https://github.com/unt-iialab/INFO5731_Spring2020/blob/master/Assignments/Assignment1_denton_housing.csv) included with this assignment. The [file Assignment1_denton_housing.csv](https://github.com/unt-iialab/INFO5731_Spring2020/blob/master/Assignments/Assignment1_denton_housing.csv) contains statistics about housing in the city of Denton from 2008 to 2014. Write a program to implement the following questions.\n",
        "\n",
        "(1) (10 pts) Calculate the difference in the number of Occupied Housing Units from year to year and print it. The difference must be calculated for the consecutive years such as 2008-2009, 2009-2010 etc. Finally, print the values in the ascending order.\n",
        "\n",
        "(2) (10 pts) For all the years, calculate the percentage of housing units which are vacant an occupied. Print the results in the following format:\n",
        "\n",
        "Year Vacant Housing Units Occupied Housing Units\n",
        "\n",
        "    2008  30%   70%                          \n",
        "\t2009 ----- -----\n",
        "\t2010 ----- -----\n",
        "    2011 ----- -----\n",
        "\t2012 ----- -----\n",
        "    2013 ----- -----\n",
        "\t2014 ----- -----\n",
        "  \n",
        "  \n",
        "\n",
        "(3) (10 pts) Calculate and print the valued and years in which the highest number of housing units were vacant and occupied. Print the results in the following format:  \n",
        "\n",
        "                              Year\tValue\n",
        "\tVacant Housing Units\t  -----   -----\n",
        "\tOccupied Housing Units\t-----   -----\n",
        "\n",
        "(4) (10 pts) Calculate the harmonic mean of the total housing units and print it out. You can find the information about harmonic mean here: https://ncalculators.com/statistics/harmonic-mean-calculator.htm"
      ]
    },
    {
      "cell_type": "code",
      "metadata": {
        "id": "HqBgB_driZkc",
        "colab_type": "code",
        "colab": {}
      },
      "source": [
        "# Your code here\n",
        "import pandas as pd\n",
        "import operator\n",
        "from tabulate import tabulate\n",
        "\n",
        "url = 'https://raw.githubusercontent.com/atulghunavat/INFO5731_Spring2020/master/Assignments/Assignment1_denton_housing.csv'\n",
        "\n",
        "data = pd.read_csv(url, index_col='year')\n",
        "\n",
        "#print(data)\n",
        "\n",
        "occupiedHousingUnit = {}\n",
        "vacantHousingUnit = {}\n",
        "totalHousingUnit = {}\n",
        "totalHousingArray = []\n",
        "for row in data.itertuples():\n",
        "  if row.title_field == 'Occupied Housing Units':\n",
        "    occupiedHousingUnit[row.Index] = row.value\n",
        "  if row.title_field == 'Vacant Housing Units':\n",
        "    vacantHousingUnit[row.Index] = row.value\n",
        "  if row.title_field == 'Total Housing Units':\n",
        "    totalHousingUnit[row.Index] = row.value\n",
        "    totalHousingArray.append(row.value)"
      ],
      "execution_count": 0,
      "outputs": []
    },
    {
      "cell_type": "code",
      "metadata": {
        "id": "yBQUZeyiiaQe",
        "colab_type": "code",
        "colab": {
          "base_uri": "https://localhost:8080/",
          "height": 159
        },
        "outputId": "415db214-6f88-43e2-d014-d397bd79203a"
      },
      "source": [
        "#1\n",
        "differenceOccupied = {}\n",
        "differenceOccupied['2008-2009'] = occupiedHousingUnit[2009] - occupiedHousingUnit[2008]\n",
        "differenceOccupied['2009-2010'] = occupiedHousingUnit[2010] - occupiedHousingUnit[2009]\n",
        "differenceOccupied['2010-2011'] = occupiedHousingUnit[2011] - occupiedHousingUnit[2010]\n",
        "differenceOccupied['2011-2012'] = occupiedHousingUnit[2012] - occupiedHousingUnit[2011]\n",
        "differenceOccupied['2012-2013'] = occupiedHousingUnit[2013] - occupiedHousingUnit[2012]\n",
        "differenceOccupied['2013-2014'] = occupiedHousingUnit[2014] - occupiedHousingUnit[2013]\n",
        "sorted_d = sorted(differenceOccupied.items(), key=operator.itemgetter(1))\n",
        "print(tabulate(sorted_d))"
      ],
      "execution_count": 97,
      "outputs": [
        {
          "output_type": "stream",
          "text": [
            "---------  ----\n",
            "2008-2009  -795\n",
            "2010-2011  -303\n",
            "2011-2012  1404\n",
            "2012-2013  1565\n",
            "2013-2014  2622\n",
            "2009-2010  5091\n",
            "---------  ----\n"
          ],
          "name": "stdout"
        }
      ]
    },
    {
      "cell_type": "code",
      "metadata": {
        "id": "Wg5qQhMDiaeQ",
        "colab_type": "code",
        "colab": {
          "base_uri": "https://localhost:8080/",
          "height": 195
        },
        "outputId": "4b4fd577-b23e-4efc-c4af-62294b03c2a5"
      },
      "source": [
        "#2\n",
        "percList = []\n",
        "percList.append(('Year', 'Vacant', 'Occupied'))\n",
        "for key,value in totalHousingUnit.items():\n",
        "  perVacant = vacantHousingUnit[key]/value\n",
        "  perOccupied = occupiedHousingUnit[key]/value\n",
        "  percList.append((key, \"{:.2%}\".format(perVacant), \"{:.2%}\".format(perOccupied)))\n",
        "print(tabulate(percList))"
      ],
      "execution_count": 100,
      "outputs": [
        {
          "output_type": "stream",
          "text": [
            "----  ------  --------\n",
            "Year  Vacant  Occupied\n",
            "2014  5.73%   94.27%\n",
            "2013  8.80%   91.20%\n",
            "2012  6.68%   93.32%\n",
            "2011  9.38%   90.62%\n",
            "2010  8.14%   91.86%\n",
            "2009  9.07%   90.93%\n",
            "2008  10.88%  89.12%\n",
            "----  ------  --------\n"
          ],
          "name": "stdout"
        }
      ]
    },
    {
      "cell_type": "code",
      "metadata": {
        "id": "3hzxvtCoiau-",
        "colab_type": "code",
        "colab": {
          "base_uri": "https://localhost:8080/",
          "height": 106
        },
        "outputId": "f5d0149d-2e34-4ec8-eadc-d754a8d3bc36"
      },
      "source": [
        "#3\n",
        "highList = []\n",
        "highList.append(('','Year', 'Value'))\n",
        "highestVacant = 0\n",
        "year = 0\n",
        "for key,value in vacantHousingUnit.items():\n",
        "    if(value > highestVacant):\n",
        "      highestVacant = value\n",
        "      year = key\n",
        "highList.append(('Vacant Housing Unit', year, highestVacant))\n",
        "\n",
        "highestOccupied = 0\n",
        "for key,value in occupiedHousingUnit.items():\n",
        "    if(value > highestOccupied):\n",
        "      highestOccupied = value\n",
        "      year = key\n",
        "highList.append(('Occupied Housing Unit', year, highestOccupied))\n",
        "\n",
        "print(tabulate(highList))"
      ],
      "execution_count": 99,
      "outputs": [
        {
          "output_type": "stream",
          "text": [
            "---------------------  ----  -----\n",
            "                       Year  Value\n",
            "Vacant Housing Unit    2008  4483\n",
            "Occupied Housing Unit  2014  46295\n",
            "---------------------  ----  -----\n"
          ],
          "name": "stdout"
        }
      ]
    },
    {
      "cell_type": "code",
      "metadata": {
        "id": "lqGYuHBhcsRH",
        "colab_type": "code",
        "colab": {
          "base_uri": "https://localhost:8080/",
          "height": 35
        },
        "outputId": "6e2ebe5f-a89b-46d1-d591-21c8017885e5"
      },
      "source": [
        "#4\n",
        "def harmonicMean(array) : \n",
        "    length = len(array)\n",
        "    # Declare sum variables and  \n",
        "    # initialize with zero. \n",
        "    sum = 0\n",
        "    for i in range(0, length) : \n",
        "        sum = sum + (1) / array[i]; \n",
        "   \n",
        "    return length / sum  \n",
        "\n",
        "print('Harmonic Mean of Total housing units: ' + str(harmonicMean(totalHousingArray))) "
      ],
      "execution_count": 98,
      "outputs": [
        {
          "output_type": "stream",
          "text": [
            "Harmonic Mean of Total housing units: 44398.28543969185\n"
          ],
          "name": "stdout"
        }
      ]
    }
  ]
}