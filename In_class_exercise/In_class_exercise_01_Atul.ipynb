{
  "nbformat": 4,
  "nbformat_minor": 0,
  "metadata": {
    "colab": {
      "name": "In_class_exercise_01_Atul.ipynb",
      "provenance": [],
      "collapsed_sections": [],
      "include_colab_link": true
    },
    "kernelspec": {
      "name": "python3",
      "display_name": "Python 3"
    }
  },
  "cells": [
    {
      "cell_type": "markdown",
      "metadata": {
        "id": "view-in-github",
        "colab_type": "text"
      },
      "source": [
        "<a href=\"https://colab.research.google.com/github/atulghunavat/atul_INFO5731_Spring2020/blob/master/In_class_exercise/In_class_exercise_01_Atul.ipynb\" target=\"_parent\"><img src=\"https://colab.research.google.com/assets/colab-badge.svg\" alt=\"Open In Colab\"/></a>"
      ]
    },
    {
      "cell_type": "markdown",
      "metadata": {
        "id": "DymRJbxDBCnf",
        "colab_type": "text"
      },
      "source": [
        "# **The first In-class-exercise**"
      ]
    },
    {
      "cell_type": "markdown",
      "metadata": {
        "id": "03jb4GZsBkBS",
        "colab_type": "text"
      },
      "source": [
        "(1) Write a Python program to calculate the length of a string."
      ]
    },
    {
      "cell_type": "code",
      "metadata": {
        "id": "YaGLbSHHB8Ej",
        "colab_type": "code",
        "colab": {
          "base_uri": "https://localhost:8080/",
          "height": 34
        },
        "outputId": "f03ba69d-10e5-4db8-8449-cc7ee8551d76"
      },
      "source": [
        "# # str = \"My name is Atul\"\n",
        "# # print(len(str))\n",
        "\n",
        "def str_len(str1):\n",
        "  count = 0\n",
        "  for char in str1:\n",
        "    count += 1\n",
        "  return count\n",
        "print(str_len(\"My name is Atul\"))"
      ],
      "execution_count": 88,
      "outputs": [
        {
          "output_type": "stream",
          "text": [
            "15\n"
          ],
          "name": "stdout"
        }
      ]
    },
    {
      "cell_type": "markdown",
      "metadata": {
        "id": "jJDe71iLB616",
        "colab_type": "text"
      },
      "source": [
        "(2) Write a Python program to count the number of characters in a string.\n",
        "\n",
        "Sample String : 'google.com‘, \n",
        "\n",
        "Expected Result : {'o': 3, 'g': 2, '.': 1, 'e': 1, 'l': 1, 'm': 1, 'c': 1}"
      ]
    },
    {
      "cell_type": "code",
      "metadata": {
        "id": "MtKskTzbCLaU",
        "colab_type": "code",
        "outputId": "a6c245fb-dd9f-4aff-aa9b-1d45e149ddd1",
        "colab": {
          "base_uri": "https://localhost:8080/",
          "height": 34
        }
      },
      "source": [
        "# write your answer here\n",
        "string = \"my name is atul\"\n",
        "all_char = {}\n",
        "for i in string:\n",
        "  if i in all_char:\n",
        "    all_char[i] += 1\n",
        "  else:\n",
        "    all_char[i] = 1\n",
        "\n",
        "print((all_char))"
      ],
      "execution_count": 0,
      "outputs": [
        {
          "output_type": "stream",
          "text": [
            "{'m': 2, 'y': 1, ' ': 3, 'n': 1, 'a': 2, 'e': 1, 'i': 1, 's': 1, 't': 1, 'u': 1, 'l': 1}\n"
          ],
          "name": "stdout"
        }
      ]
    },
    {
      "cell_type": "markdown",
      "metadata": {
        "id": "55W9AMdXCSpV",
        "colab_type": "text"
      },
      "source": [
        "(3) Write a Python program to sum all the items in a list"
      ]
    },
    {
      "cell_type": "code",
      "metadata": {
        "id": "I57NXsauCec2",
        "colab_type": "code",
        "outputId": "291d54e8-ffd7-478a-b1f7-eedaae0581fe",
        "colab": {
          "base_uri": "https://localhost:8080/",
          "height": 34
        }
      },
      "source": [
        "# write your answer here\n",
        "list = [1,2,5,10]\n",
        "count1 = 0\n",
        "for i in list:\n",
        "  count1 = i + count1\n",
        "print(count1)\n",
        "# print(\"Sum of all items: \" + str(count1))"
      ],
      "execution_count": 55,
      "outputs": [
        {
          "output_type": "stream",
          "text": [
            "18\n"
          ],
          "name": "stdout"
        }
      ]
    },
    {
      "cell_type": "markdown",
      "metadata": {
        "id": "4ulBZ6yhCi9F",
        "colab_type": "text"
      },
      "source": [
        "(4) Write a Python program to get a string from a given string where all occurrences of its first char have been changed to '\\$', except the first char itself. \n",
        "\n",
        "Sample String : 'restart‘, \n",
        "\n",
        "Expected Result : 'resta\\$t'"
      ]
    },
    {
      "cell_type": "code",
      "metadata": {
        "id": "Fj0XhwbBCw2o",
        "colab_type": "code",
        "colab": {
          "base_uri": "https://localhost:8080/",
          "height": 34
        },
        "outputId": "67003d6c-cc10-4785-a6ae-7fb8904efa4f"
      },
      "source": [
        "# write your answer here\n",
        "'''\n",
        "string1 = \"mynameismarvin\"\n",
        "string3 = ''\n",
        "string2 = string1[0]\n",
        "for a in range(len(string1)):\n",
        "  if a != 0 and string1[a] == string2:\n",
        "    string3 = string2 + string1[1:].replace(string1[a], '$')\n",
        "print(string3)\n",
        "'''\n",
        "string1 = \"mynameismarvin\"\n",
        "string2 = string1[0]\n",
        "string3 = string2 + string1[1:].replace(string2, '$')\n",
        "print(string3)"
      ],
      "execution_count": 63,
      "outputs": [
        {
          "output_type": "stream",
          "text": [
            "myna$eis$arvin\n"
          ],
          "name": "stdout"
        }
      ]
    },
    {
      "cell_type": "markdown",
      "metadata": {
        "id": "_bIP7s1MCzue",
        "colab_type": "text"
      },
      "source": [
        "(5) Write a program with python which could accept two parameter a and b to calculate and output the result of S, where \n",
        "\n",
        "$\\ S=3.14*(1+a/b)^3$\n",
        "\n"
      ]
    },
    {
      "cell_type": "code",
      "metadata": {
        "id": "w79QilHXD3Mg",
        "colab_type": "code",
        "colab": {
          "base_uri": "https://localhost:8080/",
          "height": 34
        },
        "outputId": "8f33fb7b-9919-492f-ee15-5f10a7ac552e"
      },
      "source": [
        "# write your answer here\n",
        "def calculate(a,b):\n",
        "  s=3.14*(1+a/b)**3\n",
        "  return s\n",
        "print(calculate(2,3))"
      ],
      "execution_count": 64,
      "outputs": [
        {
          "output_type": "stream",
          "text": [
            "14.537037037037033\n"
          ],
          "name": "stdout"
        }
      ]
    },
    {
      "cell_type": "markdown",
      "metadata": {
        "id": "xCa2bK9aD4Q3",
        "colab_type": "text"
      },
      "source": [
        "(6) Write a Python program to concatenate following dictionaries to create a new one. \n",
        "\n",
        "Sample Dictionary : dic1={1:10, 2:20}, dic2={3:30, 4:40}, dic3={5:50,6:60}, \n",
        "\n",
        "Expected Result : {1: 10, 2: 20, 3: 30, 4: 40, 5: 50, 6: 60}\n"
      ]
    },
    {
      "cell_type": "code",
      "metadata": {
        "id": "_z4aLqAbEET1",
        "colab_type": "code",
        "colab": {
          "base_uri": "https://localhost:8080/",
          "height": 34
        },
        "outputId": "55b11122-7a21-4ba9-b3df-d699852dc4db"
      },
      "source": [
        "# write your answer here\n",
        "def Merge(dic1, dic2, dic3): \n",
        "    (dic1.update(dic2))\n",
        "    return (dic1.update(dic3))\n",
        "dic1 = {1:10, 2:20}\n",
        "dic2 = {3:30, 4:40}\n",
        "dic3 = {5:50, 6:60}\n",
        "Merge(dic1,dic2,dic3)\n",
        "print(dic1)"
      ],
      "execution_count": 119,
      "outputs": [
        {
          "output_type": "stream",
          "text": [
            "{1: 10, 2: 20, 3: 30, 4: 40, 5: 50, 6: 60}\n"
          ],
          "name": "stdout"
        }
      ]
    },
    {
      "cell_type": "markdown",
      "metadata": {
        "id": "0v48Vqa7FrQh",
        "colab_type": "text"
      },
      "source": [
        "(7) Write a Python program to check whether an element exists within a tuple."
      ]
    },
    {
      "cell_type": "code",
      "metadata": {
        "id": "7WEmgq-DF2P1",
        "colab_type": "code",
        "colab": {
          "base_uri": "https://localhost:8080/",
          "height": 34
        },
        "outputId": "1b4a2e33-3a4d-4440-ab4e-6abcca67d568"
      },
      "source": [
        "# write your answer here\n",
        "tup = (50,15,25.6,\"Python\")\n",
        "x = \"Python\"\n",
        "a = x in tup\n",
        "print(a)"
      ],
      "execution_count": 84,
      "outputs": [
        {
          "output_type": "stream",
          "text": [
            "True\n"
          ],
          "name": "stdout"
        }
      ]
    },
    {
      "cell_type": "markdown",
      "metadata": {
        "id": "vD5PYLMuGga_",
        "colab_type": "text"
      },
      "source": [
        "(8) Write a Python program to find maximum and the minimum value in a set. "
      ]
    },
    {
      "cell_type": "code",
      "metadata": {
        "id": "t0D5kdJUGjjw",
        "colab_type": "code",
        "colab": {
          "base_uri": "https://localhost:8080/",
          "height": 84
        },
        "outputId": "e1e58c89-3091-4c1c-a4f9-5bba57470ebe"
      },
      "source": [
        "# write your answer here\n",
        "settle = {1, 20, -5, -9}\n",
        "print(\"Maximum in set:\")\n",
        "print(max(settle))\n",
        "print(\"Minimum in set:\")\n",
        "print(min(settle))"
      ],
      "execution_count": 91,
      "outputs": [
        {
          "output_type": "stream",
          "text": [
            "Maximum in set:\n",
            "20\n",
            "Minimum in set:\n",
            "-9\n"
          ],
          "name": "stdout"
        }
      ]
    },
    {
      "cell_type": "markdown",
      "metadata": {
        "id": "uHkd-y5VhVWC",
        "colab_type": "text"
      },
      "source": [
        "(9) Write a Python program to randomly divide the students in this class into four groups for term projects. Here is the students list:\n",
        "\n",
        "studnet_list = ['sa0753','laa0240','lba0043','pb0283','vmb0067','vcd0017','ag1121','lg0426','mj0396','ak0860','vk0222','vk0216',\n",
        "                'tpk0023','nk0327','mk0830','tbl0041','al0787','am1823','sm1515','km0738','hn0139','an0521','ap0975','dp1080',\n",
        "                'pk0292','vp0241','rp0477','hr0178','ps0501','ss1976','ss1872','ss1872','bs0490','pt0218','ry0104']"
      ]
    },
    {
      "cell_type": "code",
      "metadata": {
        "id": "3iGbmcOBhTwy",
        "colab_type": "code",
        "colab": {
          "base_uri": "https://localhost:8080/",
          "height": 84
        },
        "outputId": "fdbef77c-30c2-4ff9-8095-9aeb9beb6b86"
      },
      "source": [
        "# write your answer here\n",
        "import random\n",
        "import math\n",
        "studnet_list = ['sa0753','laa0240','lba0043','pb0283','vmb0067','vcd0017','ag1121','lg0426','mj0396','ak0860','vk0222','vk0216', 'tpk0023','nk0327','mk0830','tbl0041','al0787','am1823','sm1515','km0738','hn0139','an0521','ap0975','dp1080', 'pk0292','vp0241','rp0477','hr0178','ps0501','ss1976','ss1872','ss1872','bs0490','pt0218','ry0104']\n",
        "random.shuffle(studnet_list)\n",
        "# print(studnet_list)\n",
        "leng = len(studnet_list)\n",
        "quot = math.floor(leng / 4)\n",
        "remain = leng % 4\n",
        "grp1 = []\n",
        "grp2 = []\n",
        "grp3 = []\n",
        "grp4 = []\n",
        "for x in range(len(studnet_list)):\n",
        "  if x<quot:\n",
        "    grp1.append(studnet_list[x])\n",
        "  if x >= quot and x<quot*2:\n",
        "    grp2.append(studnet_list[x])\n",
        "  if x >= quot*2 and x < quot*3:\n",
        "    grp3.append(studnet_list[x])\n",
        "  if x >= quot*3 and x<quot*4:\n",
        "    grp4.append(studnet_list[x])\n",
        "\n",
        "if remain > 0:\n",
        "  grp1.append(studnet_list[leng-remain])\n",
        "if remain > 1:\n",
        "  grp2.append(studnet_list[leng-remain+1])\n",
        "if remain > 2:\n",
        "  grp3.append(studnet_list[leng-remain+2])\n",
        "   \n",
        "print(\"Group 1: \" + ', '.join(grp1))\n",
        "print(\"Group 2: \" + ', '.join(grp2))\n",
        "print(\"Group 3: \" + ', '.join(grp3))\n",
        "print(\"Group 4: \" + ', '.join(grp4))"
      ],
      "execution_count": 117,
      "outputs": [
        {
          "output_type": "stream",
          "text": [
            "Group 1: tbl0041, pb0283, pt0218, ps0501, vmb0067, hn0139, dp1080, rp0477, bs0490\n",
            "Group 2: ss1872, vk0222, am1823, vk0216, ap0975, pk0292, tpk0023, ss1976, hr0178\n",
            "Group 3: an0521, ak0860, ry0104, lg0426, ag1121, mj0396, vcd0017, lba0043, sm1515\n",
            "Group 4: vp0241, al0787, ss1872, laa0240, nk0327, mk0830, sa0753, km0738\n"
          ],
          "name": "stdout"
        }
      ]
    }
  ]
}