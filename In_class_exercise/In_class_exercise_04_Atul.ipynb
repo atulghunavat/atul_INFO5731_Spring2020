{
  "nbformat": 4,
  "nbformat_minor": 0,
  "metadata": {
    "colab": {
      "name": "In-class-exercise-04_Atul.ipynb",
      "provenance": [],
      "collapsed_sections": [],
      "include_colab_link": true
    },
    "kernelspec": {
      "name": "python3",
      "display_name": "Python 3"
    }
  },
  "cells": [
    {
      "cell_type": "markdown",
      "metadata": {
        "id": "view-in-github",
        "colab_type": "text"
      },
      "source": [
        "<a href=\"https://colab.research.google.com/github/atulghunavat/atul_INFO5731_Spring2020/blob/master/In_class_exercise/In_class_exercise_04_Atul.ipynb\" target=\"_parent\"><img src=\"https://colab.research.google.com/assets/colab-badge.svg\" alt=\"Open In Colab\"/></a>"
      ]
    },
    {
      "cell_type": "markdown",
      "metadata": {
        "id": "EuX00KHNeSpw",
        "colab_type": "text"
      },
      "source": [
        "# **The fourth in-class-exercise**"
      ]
    },
    {
      "cell_type": "markdown",
      "metadata": {
        "id": "s-vTOb03hG1f",
        "colab_type": "text"
      },
      "source": [
        "# 1. Text Data Preprocessing\n",
        "\n",
        "Here is a [legal case](https://github.com/unt-iialab/INFO5731_Spring2020/blob/master/In_class_exercise/01-05-1%20%20Adams%20v%20Tanner.txt) we collected from westlaw, please follow the steps we mentioned in lesson 5 to clean the data:\n",
        "\n",
        "\n",
        "\n",
        "## 1.1 Basic feature extraction using text data\n",
        "\n",
        "*   Number of sentences\n",
        "*   Number of words\n",
        "*   Number of characters\n",
        "*   Average word length\n",
        "*   Number of stopwords\n",
        "*   Number of special characters\n",
        "*   Number of numerics\n",
        "*   Number of uppercase words\n",
        "\n",
        "## 1.2 Basic Text Pre-processing of text data\n",
        "\n",
        "*   Lower casing\n",
        "*   Punctuation removal\n",
        "*   Stopwords removal\n",
        "*   Frequent words removal\n",
        "*   Rare words removal\n",
        "*   Spelling correction\n",
        "*   Tokenization\n",
        "*   Stemming\n",
        "*   Lemmatization\n",
        "\n",
        "## 1.3 Save all the **clean sentences** to a **csv file** (one column, each raw is a sentence) after finishing all the steps above.\n",
        "\n",
        "\n",
        "## 1.4 Advance Text Processing\n",
        "\n",
        "*   Calculate the term frequency of all the terms.\n",
        "*   Print out top 10 1-gram, top 10 2-grams, and top 10 2-grams terms as features.\n"
      ]
    },
    {
      "cell_type": "code",
      "metadata": {
        "id": "vR0L3_CreM_A",
        "colab_type": "code",
        "outputId": "527fdfcd-e5b3-4e7d-cafe-129e1cd75ffc",
        "colab": {
          "base_uri": "https://localhost:8080/",
          "height": 85
        }
      },
      "source": [
        "import nltk\n",
        "nltk.download('punkt')\n",
        "from nltk.tokenize import sent_tokenize, word_tokenize\n",
        "from nltk.corpus import stopwords\n",
        "nltk.download('stopwords')\n",
        "import re\n",
        "import requests\n",
        "page = 'https://raw.githubusercontent.com/unt-iialab/INFO5731_Spring2020/master/In_class_exercise/01-05-1%20%20Adams%20v%20Tanner.txt'\n",
        "data = requests.get(page).text\n",
        "# print (page.text)"
      ],
      "execution_count": 375,
      "outputs": [
        {
          "output_type": "stream",
          "text": [
            "[nltk_data] Downloading package punkt to /root/nltk_data...\n",
            "[nltk_data]   Package punkt is already up-to-date!\n",
            "[nltk_data] Downloading package stopwords to /root/nltk_data...\n",
            "[nltk_data]   Package stopwords is already up-to-date!\n"
          ],
          "name": "stdout"
        }
      ]
    },
    {
      "cell_type": "code",
      "metadata": {
        "id": "R_pdQkNFx3lU",
        "colab_type": "code",
        "colab": {
          "base_uri": "https://localhost:8080/",
          "height": 153
        },
        "outputId": "018d9642-6122-43a2-d865-070cd2d22b6d"
      },
      "source": [
        "#1.1\n",
        "number_of_sentences = sent_tokenize(data)\n",
        "number_of_words = word_tokenize(data)\n",
        "characters = len(data)\n",
        "print('Number of sentences: ', len(number_of_sentences))\n",
        "print('Number of words: ', len(number_of_words))\n",
        "print('Number of characters: ', characters)\n",
        "\n",
        "w_avg = sum(len(word) for word in number_of_words)/len(number_of_words)\n",
        "print ('Average word length: ', w_avg)\n",
        "\n",
        "stop = stopwords.words('english')\n",
        "stopwords = len([x for x in data.split() if x in stop])\n",
        "print('Number of stopwords: ', stopwords)\n",
        "\n",
        "regex = re.compile('[^a-zA-Z\\d\\s]')\n",
        "special = 0\n",
        "for sent in data.split():\n",
        "  chars = regex.finditer(sent)\n",
        "  for char in chars:\n",
        "    special += 1\n",
        "print('Number of special: ', special)\n",
        "\n",
        "numeric = len([x for x in data.split() if x.isdigit()])\n",
        "print('Number of numeric: ', numeric)\n",
        "\n",
        "upper = len([x for x in data.split() if x.isupper()])\n",
        "print('Number of uppercase: ', upper)"
      ],
      "execution_count": 376,
      "outputs": [
        {
          "output_type": "stream",
          "text": [
            "Number of sentences:  173\n",
            "Number of words:  4368\n",
            "Number of characters:  20613\n",
            "Average word length:  3.827838827838828\n",
            "Number of stopwords:  1679\n",
            "Number of special:  817\n",
            "Number of numeric:  60\n",
            "Number of uppercase:  84\n"
          ],
          "name": "stdout"
        }
      ]
    },
    {
      "cell_type": "code",
      "metadata": {
        "id": "hkQRPSV-MaK2",
        "colab_type": "code",
        "colab": {
          "base_uri": "https://localhost:8080/",
          "height": 119
        },
        "outputId": "f8e7ba7f-c802-490d-cb68-6a5c5cd27e8c"
      },
      "source": [
        "#1.2 & 1.4\n",
        "import pandas as pd\n",
        "import nltk\n",
        "nltk.download('stopwords')\n",
        "nltk.download('wordnet')\n",
        "nltk.download('punkt')\n",
        "import string\n",
        "from nltk.corpus import stopwords\n",
        "from nltk.stem import WordNetLemmatizer\n",
        "from nltk.stem import PorterStemmer\n",
        "from textblob import TextBlob\n",
        "\n",
        "raw_data = data.split(\"\\n\")\n",
        "cleaned_df = pd.DataFrame()\n",
        "stemmer = PorterStemmer()\n",
        "lemmatizer = WordNetLemmatizer()\n",
        "\n",
        "def remove_punctuation(text):\n",
        "  rm_punc = \"\".join([char for char in text if char not in string.punctuation])\n",
        "  return rm_punc\n",
        "\n",
        "def remove_stopwords(text):\n",
        "  words = \" \".join([word for word in text.split() if word not in stopwords.words('english')])\n",
        "  return words\n",
        "\n",
        "def find_frequentword(word_list):\n",
        "  freq = (pd.Series(word_list)).value_counts()[:10]\n",
        "  return freq\n",
        "\n",
        "def remove_frequentwords(text, f_word_list):\n",
        "  words = \" \".join([word for word in text.split() if word not in f_word_list])\n",
        "  return words\n",
        "\n",
        "def find_rareword(word_list):\n",
        "  freq = (pd.Series(word_list)).value_counts()[-10:]\n",
        "  return freq\n",
        "\n",
        "def remove_rarewords(text, r_word_list):\n",
        "  words = \" \".join([word for word in text.split() if word not in r_word_list])\n",
        "  return words\n",
        "\n",
        "def perform_stemming(text):\n",
        "  stem = \" \".join([stemmer.stem(i) for i in text.split()])\n",
        "  return stem\n",
        "\n",
        "def perform_lemmatization(text):\n",
        "  lem = \" \".join([lemmatizer.lemmatize(i) for i in text.split()])\n",
        "  return lem\n",
        "\n",
        "cleaned_array = []\n",
        "for sentence in raw_data:\n",
        "  clean_sent = sentence.lower()\n",
        "  clean_sent = remove_punctuation(clean_sent)\n",
        "  clean_sent = remove_stopwords(clean_sent)\n",
        "  if(len(clean_sent) > 0):\n",
        "    cleaned_array.append(clean_sent)\n",
        "\n",
        "word_list = []\n",
        "for i in cleaned_array:\n",
        "  for j in i.split():\n",
        "    word_list.append(j)\n",
        "frequent_word_list = find_frequentword(word_list)\n",
        "rare_word_list = find_rareword(word_list)\n",
        "\n",
        "new_cleaned_array = []\n",
        "for sentence in cleaned_array:\n",
        "  clean_sent = remove_frequentwords(sentence, frequent_word_list)\n",
        "  clean_sent = remove_rarewords(clean_sent, rare_word_list)\n",
        "  clean_sent = TextBlob(clean_sent).correct()\n",
        "  clean_sent = \" \".join(clean_sent.words)\n",
        "  clean_sent = perform_stemming(clean_sent)\n",
        "  clean_sent = perform_lemmatization(clean_sent)\n",
        "  if(len(clean_sent) > 0):\n",
        "    new_cleaned_array.append(clean_sent)\n",
        "\n",
        "cleaned_df['Cleaned'] = new_cleaned_array\n",
        "\n",
        "cleaned_df.to_csv('/content/legal.csv')\n"
      ],
      "execution_count": 377,
      "outputs": [
        {
          "output_type": "stream",
          "text": [
            "[nltk_data] Downloading package stopwords to /root/nltk_data...\n",
            "[nltk_data]   Package stopwords is already up-to-date!\n",
            "[nltk_data] Downloading package wordnet to /root/nltk_data...\n",
            "[nltk_data]   Package wordnet is already up-to-date!\n",
            "[nltk_data] Downloading package punkt to /root/nltk_data...\n",
            "[nltk_data]   Package punkt is already up-to-date!\n"
          ],
          "name": "stdout"
        }
      ]
    },
    {
      "cell_type": "code",
      "metadata": {
        "id": "LxYSKDc2H5q4",
        "colab_type": "code",
        "colab": {
          "base_uri": "https://localhost:8080/",
          "height": 751
        },
        "outputId": "94171bac-6b7a-412c-e171-f1a41f997904"
      },
      "source": [
        "#1.4\n",
        "from textblob import TextBlob\n",
        "\n",
        "ngram_2 = []\n",
        "ngram_1 = []\n",
        "\n",
        "for word in cleaned_df['Cleaned']:\n",
        "  ngram2 = TextBlob(word).ngrams(2)\n",
        "  if(len(ngram2) > 0):\n",
        "      ngram_2.append(ngram2)\n",
        "  ngram1 = TextBlob(word).ngrams(1)\n",
        "  if(len(ngram1) > 0):\n",
        "      ngram_1.append(ngram1)\n",
        "\n",
        "print('Top 10 1 gram:')\n",
        "\n",
        "ngram_1.sort(key = len) \n",
        "ngram_1.reverse()\n",
        "for n in ngram_1[:10]:\n",
        "    print('Total Items:' + str(len(n)))\n",
        "    print(n)\n",
        "\n",
        "print('Top 10 2 gram:')\n",
        "\n",
        "ngram_2.sort(key = len) \n",
        "ngram_2.reverse()\n",
        "for n in (ngram_2[:10]):\n",
        "    print('Total Items:' + str(len(n)))\n",
        "    print(n)\n"
      ],
      "execution_count": 378,
      "outputs": [
        {
          "output_type": "stream",
          "text": [
            "Top 10 1 gram:\n",
            "Total Items:310\n",
            "[WordList(['3']), WordList(['bring']), WordList(['u']), WordList(['back']), WordList(['question']), WordList(['whether']), WordList(['plaintiff']), WordList(['defeat']), WordList(['mortgag']), WordList(['frequent']), WordList(['loot']), WordList(['whether']), WordList(['common']), WordList(['law']), WordList(['corn']), WordList(['c']), WordList(['gather']), WordList(['seiz']), WordList(['fieri']), WordList(['facial']), WordList(['mr']), WordList(['dane']), WordList(['remark']), WordList(['upon']), WordList(['point']), WordList(['say']), WordList(['“']), WordList(['the']), WordList(['american']), WordList(['editor']), WordList(['bacon']), WordList(['’']), WordList(['s']), WordList(['abridg']), WordList(['say']), WordList(['‘']), WordList(['wheat']), WordList(['ground']), WordList(['chattel']), WordList(['subject']), WordList(['taken']), WordList(['sheriff']), WordList(['may']), WordList(['suffer']), WordList(['grow']), WordList(['till']), WordList(['harvest']), WordList(['cut']), WordList(['sell']), WordList(['may']), WordList(['perhap']), WordList(['sell']), WordList(['purchas']), WordList(['entitl']), WordList(['enter']), WordList(['purpos']), WordList(['cut']), WordList(['carri']), WordList(['away']), WordList(['”']), WordList(['citi']), WordList(['while']), WordList(['foot']), WordList(['ut']), WordList(['supra']), WordList(['also']), WordList(['pool']), WordList(['’']), WordList(['s']), WordList(['talk']), WordList(['368']), WordList(['1']), WordList(['boy']), WordList(['p']), WordList(['397']), WordList(['6']), WordList(['east']), WordList(['604']), WordList(['n']), WordList(['while']), WordList(['foot']), WordList(['seem']), WordList(['support']), WordList(['posit']), WordList(['unrip']), WordList(['wheat']), WordList(['corn']), WordList(['may']), WordList(['taken']), WordList(['editor']), WordList(['state']), WordList(['noth']), WordList(['taken']), WordList(['can']), WordList(['not']), WordList(['sold']), WordList(['posit']), WordList(['say']), WordList(['learn']), WordList(['comment']), WordList(['doubt']), WordList(['law']), WordList(['unnecessari']), WordList(['consid']), WordList(['matter']), WordList(['stand']), WordList(['common']), WordList(['law']), WordList(['first']), WordList(['section']), WordList(['act']), WordList(['1821']), WordList(['“']), WordList(['to']), WordList(['prevent']), WordList(['sheriff']), WordList(['offic']), WordList(['levi']), WordList(['execut']), WordList(['certain']), WordList(['case']), WordList(['enact']), WordList(['“']), WordList(['it']), WordList(['shall']), WordList(['law']), WordList(['sheriff']), WordList(['offic']), WordList(['writ']), WordList(['fieri']), WordList(['facial']), WordList(['plant']), WordList(['debtor']), WordList(['person']), WordList(['may']), WordList(['issu']), WordList(['gather']), WordList(['”']), WordList(['ask']), WordList(['dig']), WordList(['167']), WordList(['express']), WordList(['inhibit']), WordList(['remain']), WordList(['ground']), WordList(['sever']), WordList(['soil']), WordList(['owe']), WordList(['growth']), WordList(['respect']), WordList(['properti']), WordList(['thu']), WordList(['situat']), WordList(['attach']), WordList(['to']), WordList(['instant']), WordList(['upon']), WordList(['place']), WordList(['hand']), WordList(['offic']), WordList(['act']), WordList(['cite']), WordList(['effect']), WordList(['keep']), WordList(['abey']), WordList(['gather']), WordList(['oper']), WordList(['prevent']), WordList(['debtor']), WordList(['properti']), WordList(['attach']), WordList(['give']), WordList(['creditor']), WordList(['sold']), WordList(['satisfi']), WordList(['judgment']), WordList(['intim']), WordList(['connect']), WordList(['latter']), WordList(['taken']), WordList(['away']), WordList(['suspend']), WordList(['effect']), WordList(['common']), WordList(['law']), WordList(['destruct']), WordList(['former']), WordList(['principl']), WordList(['fulli']), WordList(['establish']), WordList(['mason']), WordList(['hurtel']), WordList(['presid']), WordList(['c']), WordList(['bank']), WordList(['unit']), WordList(['state']), WordList(['assign']), WordList(['situat']), WordList(['contain']), WordList(['opinion']), WordList(['also']), WordList(['opinion']), WordList(['wood']), WordList(['mari']), WordList(['et']), WordList(['al']), WordList(['decid']), WordList(['last']), WordList(['term']), WordList(['compet']), WordList(['legislatur']), WordList(['made']), WordList(['unlaw']), WordList(['particular']), WordList(['properti']), WordList(['condit']), WordList(['chang']), WordList(['still']), WordList(['give']), WordList(['continu']), WordList(['can']), WordList(['not']), WordList(['doubt']), WordList(['noth']), WordList(['act']), WordList(['question']), WordList(['indic']), WordList(['intent']), WordList(['object']), WordList(['mere']), WordList(['suspend']), WordList(['sale']), WordList(['gather']), WordList(['would']), WordList(['easi']), WordList(['said']), WordList(['explicit']), WordList(['term']), WordList(['declar']), WordList(['statut']), WordList(['totidem']), WordList(['verb']), WordList(['shall']), WordList(['levi']), WordList(['legislatur']), WordList(['must']), WordList(['suppos']), WordList(['meant']), WordList(['express']), WordList(['act']), WordList(['induc']), WordList(['doubt']), WordList(['exist']), WordList(['common']), WordList(['law']), WordList(['intend']), WordList(['remov']), WordList(['doubt']), WordList(['declar']), WordList(['law']), WordList(['futur']), WordList(['creat']), WordList(['author']), WordList(['law']), WordList(['exist']), WordList(['silent']), WordList(['idea']), WordList(['attach']), WordList(['upon']), WordList(['plant']), WordList(['soon']), WordList(['deliv']), WordList(['sheriff']), WordList(['though']), WordList(['postpon']), WordList(['sever']), WordList(['took']), WordList(['place']), WordList(['attempt']), WordList(['deduc']), WordList(['last']), WordList(['word']), WordList(['section']), WordList(['cite']), WordList(['viz']), WordList(['“']), WordList(['until']), WordList(['gather']), WordList(['”']), WordList(['word']), WordList(['can']), WordList(['not']), WordList(['upon']), WordList(['principl']), WordList(['construct']), WordList(['regard']), WordList(['potent']), WordList(['give']), WordList(['introspect']), WordList(['effect']), WordList(['refer']), WordList(['would']), WordList(['postpon']), WordList(['gather']), WordList(['relat']), WordList(['postpon']), WordList(['event']), WordList(['take']), WordList(['place'])]\n",
            "Total Items:170\n",
            "[WordList(['1']), WordList(['trial']), WordList(['properti']), WordList(['statut']), WordList(['novemb']), WordList(['1840']), WordList(['issu']), WordList(['circuit']), WordList(['sumter']), WordList(['suit']), WordList(['plaintiff']), WordList(['error']), WordList(['requir']), WordList(['sheriff']), WordList(['counti']), WordList(['make']), WordList(['good']), WordList(['c']), WordList(['allen']), WordList(['harrison']), WordList(['other']), WordList(['sum']), WordList(['thirtyseven']), WordList(['hundr']), WordList(['seventyseven']), WordList(['dollar']), WordList(['besid']), WordList(['cost']), WordList(['levi']), WordList(['thirti']), WordList(['bale']), WordList(['cotton']), WordList(['properti']), WordList(['allen']), WordList(['harrison']), WordList(['claim']), WordList(['bond']), WordList(['given']), WordList(['tri']), WordList(['issu']), WordList(['made']), WordList(['tri']), WordList(['question']), WordList(['liabil']), WordList(['cotton']), WordList(['plaintiff']), WordList(['’']), WordList(['s']), WordList(['submit']), WordList(['juri']), WordList(['trial']), WordList(['bill']), WordList(['except']), WordList(['seal']), WordList(['instanc']), WordList(['plaintiff']), WordList(['plaintiff']), WordList(['prove']), WordList(['recov']), WordList(['judgment']), WordList(['octob']), WordList(['1839']), WordList(['741']), WordList(['issu']), WordList(['thereon']), WordList(['th']), WordList(['nov']), WordList(['thereaft']), WordList(['alia']), WordList(['pluni']), WordList(['fieri']), WordList(['facial']), WordList(['’']), WordList(['issu']), WordList(['regularli']), WordList(['time']), WordList(['made']), WordList(['cotton']), WordList(['levi']), WordList(['growl']), WordList(['plantat']), WordList(['harrison']), WordList(['cultiv']), WordList(['hand']), WordList(['servic']), WordList(['prove']), WordList(['product']), WordList(['written']), WordList(['contract']), WordList(['harrison']), WordList(['twentysecond']), WordList(['may']), WordList(['1840']), WordList(['consider']), WordList(['involv']), WordList(['indors']), WordList(['button']), WordList(['harrison']), WordList(['sumter']), WordList(['counti']), WordList(['expo']), WordList(['amount']), WordList(['upward']), WordList(['fourteen']), WordList(['thousand']), WordList(['dollar']), WordList(['bargain']), WordList(['sold']), WordList(['cotton']), WordList(['c']), WordList(['consist']), WordList(['one']), WordList(['hundr']), WordList(['twenti']), WordList(['acr']), WordList(['c']), WordList(['allen']), WordList(['harrison']), WordList(['promis']), WordList(['oblig']), WordList(['give']), WordList(['use']), WordList(['time']), WordList(['save']), WordList(['suffer']), WordList(['indors']), WordList(['matur']), WordList(['gather']), WordList(['undertook']), WordList(['deliv']), WordList(['cotton']), WordList(['gainesvil']), WordList(['came']), WordList(['tennesse']), WordList(['resid']), WordList(['first']), WordList(['septemb']), WordList(['1840']), WordList(['bring']), WordList(['three']), WordList(['four']), WordList(['white']), WordList(['labor']), WordList(['took']), WordList(['posse']), WordList(['slave']), WordList(['latter']), WordList(['white']), WordList(['labor']), WordList(['gather']), WordList(['cotton']), WordList(['prepar']), WordList(['market']), WordList(['levi']), WordList(['warehous']), WordList(['gainesvil']), WordList(['plaintiff']), WordList(['prove']), WordList(['harrison']), WordList(['took']), WordList(['posse']), WordList(['absent']), WordList(['dispos']), WordList(['without']), WordList(['consent']), WordList(['admit']), WordList(['contract']), WordList(['made']), WordList(['good']), WordList(['faith'])]\n",
            "Total Items:131\n",
            "[WordList(['r']), WordList(['h']), WordList(['smith']), WordList(['plaintiff']), WordList(['error']), WordList(['made']), WordList(['follow']), WordList(['point']), WordList(['harrison']), WordList(['must']), WordList(['may']), WordList(['1840']), WordList(['immatur']), WordList(['state']), WordList(['insist']), WordList(['subject']), WordList(['sale']), WordList(['2']), WordList(['common']), WordList(['law']), WordList(['could']), WordList(['levi']), WordList(['sold']), WordList(['1']), WordList(['talk']), WordList(['rep']), WordList(['361']), WordList(['1']), WordList(['boy']), WordList(['p']), WordList(['rep']), WordList(['307']), WordList(['6']), WordList(['east']), WordList(['’']), WordList(['s']), WordList(['rep']), WordList(['604']), WordList(['note']), WordList(['1']), WordList(['2']), WordList(['john']), WordList(['rep']), WordList(['418']), WordList(['422']), WordList(['7']), WordList(['mass']), WordList(['rep']), WordList(['34']), WordList(['statu']), WordList(['ask']), WordList(['dig']), WordList(['§']), WordList(['41']), WordList(['p']), WordList(['167']), WordList(['forbid']), WordList(['742']), WordList(['receiv']), WordList(['strict']), WordList(['construct']), WordList(['mere']), WordList(['inhibit']), WordList(['attach']), WordList(['sale']), WordList(['may']), WordList(['made']), WordList(['matur']), WordList(['gather']), WordList(['3']), WordList(['contract']), WordList(['purport']), WordList(['convey']), WordList(['mere']), WordList(['executor']), WordList(['agreement']), WordList(['requir']), WordList(['act']), WordList(['done']), WordList(['harrison']), WordList(['order']), WordList(['invest']), WordList(['properti']), WordList(['chit']), WordList(['con']), WordList(['112']), WordList(['207']), WordList(['3']), WordList(['john']), WordList(['rep']), WordList(['338']), WordList(['424']), WordList(['5']), WordList(['went']), WordList(['rep']), WordList(['26']), WordList(['13']), WordList(['john']), WordList(['rep']), WordList(['235']), WordList(['8']), WordList(['down']), WordList(['rep']), WordList(['693']), WordList(['act']), WordList(['done']), WordList(['matter']), WordList(['gather']), WordList(['liabl']), WordList(['seiz']), WordList(['harrison']), WordList(['’']), WordList(['s']), WordList(['debt']), WordList(['chanceri']), WordList(['would']), WordList(['compel']), WordList(['specif']), WordList(['perform']), WordList(['contract']), WordList(['claimant']), WordList(['’']), WordList(['s']), WordList(['instanc']), WordList(['4']), WordList(['charg']), WordList(['also']), WordList(['objection']), WordList(['decid']), WordList(['disput']), WordList(['fact'])]\n",
            "Total Items:121\n",
            "[WordList(['doubt']), WordList(['exist']), WordList(['subject']), WordList(['matter']), WordList(['sale']), WordList(['mortgag']), WordList(['contract']), WordList(['interest']), WordList(['vest']), WordList(['posse']), WordList(['either']), WordList(['immedi']), WordList(['futur']), WordList(['time']), WordList(['proposit']), WordList(['frequent']), WordList(['assum']), WordList(['unquestion']), WordList(['point']), WordList(['inquiri']), WordList(['gener']), WordList(['whether']), WordList(['statut']), WordList(['fraud']), WordList(['29']), WordList(['cha']), WordList(['2']), WordList(['mere']), WordList(['chattel']), WordList(['transferr']), WordList(['patrol']), WordList(['without']), WordList(['write']), WordList(['chatti']), WordList(['con']), WordList(['2412']), WordList(['while']), WordList(['foot']), WordList(['2']), WordList(['john']), WordList(['rep']), WordList(['422']), WordList(['stewart']), WordList(['doughi']), WordList(['9']), WordList(['john']), WordList(['rep']), WordList(['112']), WordList(['743']), WordList(['austin']), WordList(['lawyer']), WordList(['9']), WordList(['cow']), WordList(['rep']), WordList(['39']), WordList(['see']), WordList(['also']), WordList(['reveri']), WordList(['lee']), WordList(['alton']), WordList(['last']), WordList(['term']), WordList(['contract']), WordList(['set']), WordList(['bill']), WordList(['except']), WordList(['inclin']), WordList(['think']), WordList(['evid']), WordList(['rather']), WordList(['mortgag']), WordList(['absolut']), WordList(['sale']), WordList(['recit']), WordList(['involv']), WordList(['indors']), WordList(['mercantil']), WordList(['firm']), WordList(['defend']), WordList(['partner']), WordList(['upward']), WordList(['fourteen']), WordList(['thousand']), WordList(['dollar']), WordList(['estat']), WordList(['sheriff']), WordList(['’']), WordList(['s']), WordList(['hand']), WordList(['convey']), WordList(['made']), WordList(['cotton']), WordList(['corn']), WordList(['oat']), WordList(['grant']), WordList(['agre']), WordList(['give']), WordList(['time']), WordList(['use']), WordList(['prevent']), WordList(['injuri']), WordList(['indors']), WordList(['defend']), WordList(['might']), WordList(['time']), WordList(['divest']), WordList(['interest']), WordList(['contract']), WordList(['vest']), WordList(['discharg']), WordList(['liabil']), WordList(['indors']), WordList(['judgment']), WordList(['creditor']), WordList(['might']), WordList(['satisfi']), WordList(['gather']), WordList(['levi']), WordList(['sold']), WordList(['fieri']), WordList(['facial'])]\n",
            "Total Items:86\n",
            "[WordList(['previou']), WordList(['taken']), WordList(['posse']), WordList(['prepar']), WordList(['cotton']), WordList(['market']), WordList(['remov']), WordList(['warehous']), WordList(['posse']), WordList(['insist']), WordList(['trespass']), WordList(['acquir']), WordList(['absenc']), WordList(['defend']), WordList(['without']), WordList(['consent']), WordList(['given']), WordList(['conced']), WordList(['fact']), WordList(['state']), WordList(['bill']), WordList(['except']), WordList(['think']), WordList(['follow']), WordList(['posse']), WordList(['nullifi']), WordList(['must']), WordList(['consid']), WordList(['never']), WordList(['interf']), WordList(['contract']), WordList(['contain']), WordList(['express']), WordList(['undertak']), WordList(['give']), WordList(['time']), WordList(['might']), WordList(['requir']), WordList(['indemn']), WordList(['took']), WordList(['posse']), WordList(['absenc']), WordList(['grant']), WordList(['though']), WordList(['without']), WordList(['consent']), WordList(['subsequ']), WordList(['acquiesc']), WordList(['infer']), WordList(['would']), WordList(['necessari']), WordList(['act']), WordList(['approv']), WordList(['take']), WordList(['clear']), WordList(['744']), WordList(['law']), WordList(['seen']), WordList(['defend']), WordList(['time']), WordList(['noth']), WordList(['mere']), WordList(['equit']), WordList(['redeem']), WordList(['cotton']), WordList(['pay']), WordList(['debt']), WordList(['indors']), WordList(['posse']), WordList(['coupl']), WordList(['equiti']), WordList(['equiti']), WordList(['held']), WordList(['can']), WordList(['not']), WordList(['reach']), WordList(['ordinari']), WordList(['person']), WordList(['elliott']), WordList(['hayfield']), WordList(['5']), WordList(['porter']), WordList(['’']), WordList(['s']), WordList(['rep']), WordList(['182'])]\n",
            "Total Items:78\n",
            "[WordList(['5']), WordList(['confirm']), WordList(['correct']), WordList(['view']), WordList(['necessari']), WordList(['found']), WordList(['think']), WordList(['languag']), WordList(['employ']), WordList(['legislatur']), WordList(['sheriff']), WordList(['forbidden']), WordList(['“']), WordList(['plant']), WordList(['crop']), WordList(['”']), WordList(['gather']), WordList(['view']), WordList(['taken']), WordList(['major']), WordList(['correct']), WordList(['secur']), WordList(['plaintiff']), WordList(['levi']), WordList(['gather']), WordList(['may']), WordList(['frustrat']), WordList(['sale']), WordList(['defend']), WordList(['whilst']), WordList(['immatur']), WordList(['state']), WordList(['construct']), WordList(['put']), WordList(['upon']), WordList(['statut']), WordList(['involv']), WordList(['singular']), WordList(['anim']), WordList(['legislatur']), WordList(['protect']), WordList(['debtor']), WordList(['forbidden']), WordList(['plaintiff']), WordList(['sell']), WordList(['properti']), WordList(['debtor']), WordList(['condit']), WordList(['bring']), WordList(['valu']), WordList(['yet']), WordList(['permit']), WordList(['debtor']), WordList(['voluntarili']), WordList(['sale']), WordList(['submit']), WordList(['sacrific']), WordList(['benefit']), WordList(['effect']), WordList(['gift']), WordList(['defend']), WordList(['provid']), WordList(['dispos']), WordList(['condit']), WordList(['feel']), WordList(['thorough']), WordList(['convict']), WordList(['intent']), WordList(['legislatur']), WordList(['secur']), WordList(['loss']), WordList(['prohibit']), WordList(['sale']), WordList(['gather']), WordList(['temporari']), WordList(['suspens']), WordList(['sell']), WordList(['ceas'])]\n",
            "Total Items:78\n",
            "[WordList(['act']), WordList(['must']), WordList(['consid']), WordList(['connect']), WordList(['act']), WordList(['upon']), WordList(['subject']), WordList(['polici']), WordList(['state']), WordList(['indic']), WordList(['statut']), WordList(['undeni']), WordList(['properti']), WordList(['debtor']), WordList(['real']), WordList(['person']), WordList(['legal']), WordList(['titl']), WordList(['shall']), WordList(['subject']), WordList(['sale']), WordList(['appear']), WordList(['would']), WordList(['difficult']), WordList(['assign']), WordList(['reason']), WordList(['exempt']), WordList(['speci']), WordList(['properti']), WordList(['claim']), WordList(['judgment']), WordList(['creditor']), WordList(['give']), WordList(['defend']), WordList(['dispos']), WordList(['appear']), WordList(['defer']), WordList(['argument']), WordList(['sheriff']), WordList(['prohibit']), WordList(['levi']), WordList(['“']), WordList(['“']), WordList(['plant']), WordList(['crop']), WordList(['”']), WordList(['therefor']), WordList(['lost']), WordList(['debtor']), WordList(['sell']), WordList(['non']), WordList(['sequitur']), WordList(['mischief']), WordList(['statut']), WordList(['design']), WordList(['remedi']), WordList(['sacrific']), WordList(['would']), WordList(['necessarili']), WordList(['made']), WordList(['sale']), WordList(['immatur']), WordList(['statut']), WordList(['enabl']), WordList(['debtor']), WordList(['retain']), WordList(['matur']), WordList(['sever']), WordList(['soil']), WordList(['put']), WordList(['747']), WordList(['condit']), WordList(['bring']), WordList(['valueth']), WordList(['mean']), WordList(['time']), WordList(['continu']), WordList(['plaintiff'])]\n",
            "Total Items:56\n",
            "[WordList(['circuit']), WordList(['judg']), WordList(['may']), WordList(['mistaken']), WordList(['law']), WordList(['suppos']), WordList(['contract']), WordList(['sale']), WordList(['error']), WordList(['respect']), WordList(['materi']), WordList(['whether']), WordList(['sale']), WordList(['mortgag']), WordList(['746']), WordList(['seen']), WordList(['fact']), WordList(['defend']), WordList(['interest']), WordList(['could']), WordList(['seiz']), WordList(['sold']), WordList(['assumpt']), WordList(['materi']), WordList(['fact']), WordList(['charg']), WordList(['posse']), WordList(['claimant']), WordList(['time']), WordList(['acquir']), WordList(['gather']), WordList(['c']), WordList(['refer']), WordList(['determin']), WordList(['juri']), WordList(['instruct']), WordList(['find']), WordList(['accord']), WordList(['evid']), WordList(['ad']), WordList(['ever']), WordList(['attach']), WordList(['favor']), WordList(['plaintiff']), WordList(['bone']), WordList(['side']), WordList(['contract']), WordList(['conced']), WordList(['charg']), WordList(['necessari']), WordList(['point']), WordList(['could']), WordList(['proprieti']), WordList(['enter']), WordList(['inquiri']), WordList(['juri'])]\n",
            "Total Items:45\n",
            "[WordList(['consid']), WordList(['write']), WordList(['assert']), WordList(['mortgag']), WordList(['power']), WordList(['take']), WordList(['posse']), WordList(['time']), WordList(['year']), WordList(['unless']), WordList(['reliev']), WordList(['engag']), WordList(['indors']), WordList(['pretend']), WordList(['liabil']), WordList(['satisfi']), WordList(['admit']), WordList(['parti']), WordList(['act']), WordList(['good']), WordList(['faith']), WordList(['dri']), WordList(['question']), WordList(['law']), WordList(['whether']), WordList(['plaintiff']), WordList(['shall']), WordList(['prevail']), WordList(['assum']), WordList(['present']), WordList(['plaintiff']), WordList(['oper']), WordList(['upon']), WordList(['plant']), WordList(['previou']), WordList(['contract']), WordList(['may']), WordList(['1840']), WordList(['inquir']), WordList(['whether']), WordList(['defend']), WordList(['interest']), WordList(['could']), WordList(['levi']), WordList(['sold'])]\n",
            "Total Items:28\n",
            "[WordList(['charg']), WordList(['juri']), WordList(['plaintiff']), WordList(['virtu']), WordList(['judgment']), WordList(['harrison']), WordList(['convey']), WordList(['without']), WordList(['manner']), WordList(['restrain']), WordList(['write']), WordList(['ad']), WordList(['sale']), WordList(['fieri']), WordList(['facial']), WordList(['would']), WordList(['attach']), WordList(['upon']), WordList(['gather']), WordList(['yet']), WordList(['obtain']), WordList(['posse']), WordList(['first']), WordList(['septemb']), WordList(['control']), WordList(['gather']), WordList(['attach']), WordList(['subject'])]\n",
            "Top 10 2 gram:\n",
            "Total Items:309\n",
            "[WordList(['3', 'bring']), WordList(['bring', 'u']), WordList(['u', 'back']), WordList(['back', 'question']), WordList(['question', 'whether']), WordList(['whether', 'plaintiff']), WordList(['plaintiff', 'defeat']), WordList(['defeat', 'mortgag']), WordList(['mortgag', 'frequent']), WordList(['frequent', 'loot']), WordList(['loot', 'whether']), WordList(['whether', 'common']), WordList(['common', 'law']), WordList(['law', 'corn']), WordList(['corn', 'c']), WordList(['c', 'gather']), WordList(['gather', 'seiz']), WordList(['seiz', 'fieri']), WordList(['fieri', 'facial']), WordList(['facial', 'mr']), WordList(['mr', 'dane']), WordList(['dane', 'remark']), WordList(['remark', 'upon']), WordList(['upon', 'point']), WordList(['point', 'say']), WordList(['say', '“']), WordList(['“', 'the']), WordList(['the', 'american']), WordList(['american', 'editor']), WordList(['editor', 'bacon']), WordList(['bacon', '’']), WordList(['’', 's']), WordList(['s', 'abridg']), WordList(['abridg', 'say']), WordList(['say', '‘']), WordList(['‘', 'wheat']), WordList(['wheat', 'ground']), WordList(['ground', 'chattel']), WordList(['chattel', 'subject']), WordList(['subject', 'taken']), WordList(['taken', 'sheriff']), WordList(['sheriff', 'may']), WordList(['may', 'suffer']), WordList(['suffer', 'grow']), WordList(['grow', 'till']), WordList(['till', 'harvest']), WordList(['harvest', 'cut']), WordList(['cut', 'sell']), WordList(['sell', 'may']), WordList(['may', 'perhap']), WordList(['perhap', 'sell']), WordList(['sell', 'purchas']), WordList(['purchas', 'entitl']), WordList(['entitl', 'enter']), WordList(['enter', 'purpos']), WordList(['purpos', 'cut']), WordList(['cut', 'carri']), WordList(['carri', 'away']), WordList(['away', '”']), WordList(['”', 'citi']), WordList(['citi', 'while']), WordList(['while', 'foot']), WordList(['foot', 'ut']), WordList(['ut', 'supra']), WordList(['supra', 'also']), WordList(['also', 'pool']), WordList(['pool', '’']), WordList(['’', 's']), WordList(['s', 'talk']), WordList(['talk', '368']), WordList(['368', '1']), WordList(['1', 'boy']), WordList(['boy', 'p']), WordList(['p', '397']), WordList(['397', '6']), WordList(['6', 'east']), WordList(['east', '604']), WordList(['604', 'n']), WordList(['n', 'while']), WordList(['while', 'foot']), WordList(['foot', 'seem']), WordList(['seem', 'support']), WordList(['support', 'posit']), WordList(['posit', 'unrip']), WordList(['unrip', 'wheat']), WordList(['wheat', 'corn']), WordList(['corn', 'may']), WordList(['may', 'taken']), WordList(['taken', 'editor']), WordList(['editor', 'state']), WordList(['state', 'noth']), WordList(['noth', 'taken']), WordList(['taken', 'can']), WordList(['can', 'not']), WordList(['not', 'sold']), WordList(['sold', 'posit']), WordList(['posit', 'say']), WordList(['say', 'learn']), WordList(['learn', 'comment']), WordList(['comment', 'doubt']), WordList(['doubt', 'law']), WordList(['law', 'unnecessari']), WordList(['unnecessari', 'consid']), WordList(['consid', 'matter']), WordList(['matter', 'stand']), WordList(['stand', 'common']), WordList(['common', 'law']), WordList(['law', 'first']), WordList(['first', 'section']), WordList(['section', 'act']), WordList(['act', '1821']), WordList(['1821', '“']), WordList(['“', 'to']), WordList(['to', 'prevent']), WordList(['prevent', 'sheriff']), WordList(['sheriff', 'offic']), WordList(['offic', 'levi']), WordList(['levi', 'execut']), WordList(['execut', 'certain']), WordList(['certain', 'case']), WordList(['case', 'enact']), WordList(['enact', '“']), WordList(['“', 'it']), WordList(['it', 'shall']), WordList(['shall', 'law']), WordList(['law', 'sheriff']), WordList(['sheriff', 'offic']), WordList(['offic', 'writ']), WordList(['writ', 'fieri']), WordList(['fieri', 'facial']), WordList(['facial', 'plant']), WordList(['plant', 'debtor']), WordList(['debtor', 'person']), WordList(['person', 'may']), WordList(['may', 'issu']), WordList(['issu', 'gather']), WordList(['gather', '”']), WordList(['”', 'ask']), WordList(['ask', 'dig']), WordList(['dig', '167']), WordList(['167', 'express']), WordList(['express', 'inhibit']), WordList(['inhibit', 'remain']), WordList(['remain', 'ground']), WordList(['ground', 'sever']), WordList(['sever', 'soil']), WordList(['soil', 'owe']), WordList(['owe', 'growth']), WordList(['growth', 'respect']), WordList(['respect', 'properti']), WordList(['properti', 'thu']), WordList(['thu', 'situat']), WordList(['situat', 'attach']), WordList(['attach', 'to']), WordList(['to', 'instant']), WordList(['instant', 'upon']), WordList(['upon', 'place']), WordList(['place', 'hand']), WordList(['hand', 'offic']), WordList(['offic', 'act']), WordList(['act', 'cite']), WordList(['cite', 'effect']), WordList(['effect', 'keep']), WordList(['keep', 'abey']), WordList(['abey', 'gather']), WordList(['gather', 'oper']), WordList(['oper', 'prevent']), WordList(['prevent', 'debtor']), WordList(['debtor', 'properti']), WordList(['properti', 'attach']), WordList(['attach', 'give']), WordList(['give', 'creditor']), WordList(['creditor', 'sold']), WordList(['sold', 'satisfi']), WordList(['satisfi', 'judgment']), WordList(['judgment', 'intim']), WordList(['intim', 'connect']), WordList(['connect', 'latter']), WordList(['latter', 'taken']), WordList(['taken', 'away']), WordList(['away', 'suspend']), WordList(['suspend', 'effect']), WordList(['effect', 'common']), WordList(['common', 'law']), WordList(['law', 'destruct']), WordList(['destruct', 'former']), WordList(['former', 'principl']), WordList(['principl', 'fulli']), WordList(['fulli', 'establish']), WordList(['establish', 'mason']), WordList(['mason', 'hurtel']), WordList(['hurtel', 'presid']), WordList(['presid', 'c']), WordList(['c', 'bank']), WordList(['bank', 'unit']), WordList(['unit', 'state']), WordList(['state', 'assign']), WordList(['assign', 'situat']), WordList(['situat', 'contain']), WordList(['contain', 'opinion']), WordList(['opinion', 'also']), WordList(['also', 'opinion']), WordList(['opinion', 'wood']), WordList(['wood', 'mari']), WordList(['mari', 'et']), WordList(['et', 'al']), WordList(['al', 'decid']), WordList(['decid', 'last']), WordList(['last', 'term']), WordList(['term', 'compet']), WordList(['compet', 'legislatur']), WordList(['legislatur', 'made']), WordList(['made', 'unlaw']), WordList(['unlaw', 'particular']), WordList(['particular', 'properti']), WordList(['properti', 'condit']), WordList(['condit', 'chang']), WordList(['chang', 'still']), WordList(['still', 'give']), WordList(['give', 'continu']), WordList(['continu', 'can']), WordList(['can', 'not']), WordList(['not', 'doubt']), WordList(['doubt', 'noth']), WordList(['noth', 'act']), WordList(['act', 'question']), WordList(['question', 'indic']), WordList(['indic', 'intent']), WordList(['intent', 'object']), WordList(['object', 'mere']), WordList(['mere', 'suspend']), WordList(['suspend', 'sale']), WordList(['sale', 'gather']), WordList(['gather', 'would']), WordList(['would', 'easi']), WordList(['easi', 'said']), WordList(['said', 'explicit']), WordList(['explicit', 'term']), WordList(['term', 'declar']), WordList(['declar', 'statut']), WordList(['statut', 'totidem']), WordList(['totidem', 'verb']), WordList(['verb', 'shall']), WordList(['shall', 'levi']), WordList(['levi', 'legislatur']), WordList(['legislatur', 'must']), WordList(['must', 'suppos']), WordList(['suppos', 'meant']), WordList(['meant', 'express']), WordList(['express', 'act']), WordList(['act', 'induc']), WordList(['induc', 'doubt']), WordList(['doubt', 'exist']), WordList(['exist', 'common']), WordList(['common', 'law']), WordList(['law', 'intend']), WordList(['intend', 'remov']), WordList(['remov', 'doubt']), WordList(['doubt', 'declar']), WordList(['declar', 'law']), WordList(['law', 'futur']), WordList(['futur', 'creat']), WordList(['creat', 'author']), WordList(['author', 'law']), WordList(['law', 'exist']), WordList(['exist', 'silent']), WordList(['silent', 'idea']), WordList(['idea', 'attach']), WordList(['attach', 'upon']), WordList(['upon', 'plant']), WordList(['plant', 'soon']), WordList(['soon', 'deliv']), WordList(['deliv', 'sheriff']), WordList(['sheriff', 'though']), WordList(['though', 'postpon']), WordList(['postpon', 'sever']), WordList(['sever', 'took']), WordList(['took', 'place']), WordList(['place', 'attempt']), WordList(['attempt', 'deduc']), WordList(['deduc', 'last']), WordList(['last', 'word']), WordList(['word', 'section']), WordList(['section', 'cite']), WordList(['cite', 'viz']), WordList(['viz', '“']), WordList(['“', 'until']), WordList(['until', 'gather']), WordList(['gather', '”']), WordList(['”', 'word']), WordList(['word', 'can']), WordList(['can', 'not']), WordList(['not', 'upon']), WordList(['upon', 'principl']), WordList(['principl', 'construct']), WordList(['construct', 'regard']), WordList(['regard', 'potent']), WordList(['potent', 'give']), WordList(['give', 'introspect']), WordList(['introspect', 'effect']), WordList(['effect', 'refer']), WordList(['refer', 'would']), WordList(['would', 'postpon']), WordList(['postpon', 'gather']), WordList(['gather', 'relat']), WordList(['relat', 'postpon']), WordList(['postpon', 'event']), WordList(['event', 'take']), WordList(['take', 'place'])]\n",
            "Total Items:169\n",
            "[WordList(['1', 'trial']), WordList(['trial', 'properti']), WordList(['properti', 'statut']), WordList(['statut', 'novemb']), WordList(['novemb', '1840']), WordList(['1840', 'issu']), WordList(['issu', 'circuit']), WordList(['circuit', 'sumter']), WordList(['sumter', 'suit']), WordList(['suit', 'plaintiff']), WordList(['plaintiff', 'error']), WordList(['error', 'requir']), WordList(['requir', 'sheriff']), WordList(['sheriff', 'counti']), WordList(['counti', 'make']), WordList(['make', 'good']), WordList(['good', 'c']), WordList(['c', 'allen']), WordList(['allen', 'harrison']), WordList(['harrison', 'other']), WordList(['other', 'sum']), WordList(['sum', 'thirtyseven']), WordList(['thirtyseven', 'hundr']), WordList(['hundr', 'seventyseven']), WordList(['seventyseven', 'dollar']), WordList(['dollar', 'besid']), WordList(['besid', 'cost']), WordList(['cost', 'levi']), WordList(['levi', 'thirti']), WordList(['thirti', 'bale']), WordList(['bale', 'cotton']), WordList(['cotton', 'properti']), WordList(['properti', 'allen']), WordList(['allen', 'harrison']), WordList(['harrison', 'claim']), WordList(['claim', 'bond']), WordList(['bond', 'given']), WordList(['given', 'tri']), WordList(['tri', 'issu']), WordList(['issu', 'made']), WordList(['made', 'tri']), WordList(['tri', 'question']), WordList(['question', 'liabil']), WordList(['liabil', 'cotton']), WordList(['cotton', 'plaintiff']), WordList(['plaintiff', '’']), WordList(['’', 's']), WordList(['s', 'submit']), WordList(['submit', 'juri']), WordList(['juri', 'trial']), WordList(['trial', 'bill']), WordList(['bill', 'except']), WordList(['except', 'seal']), WordList(['seal', 'instanc']), WordList(['instanc', 'plaintiff']), WordList(['plaintiff', 'plaintiff']), WordList(['plaintiff', 'prove']), WordList(['prove', 'recov']), WordList(['recov', 'judgment']), WordList(['judgment', 'octob']), WordList(['octob', '1839']), WordList(['1839', '741']), WordList(['741', 'issu']), WordList(['issu', 'thereon']), WordList(['thereon', 'th']), WordList(['th', 'nov']), WordList(['nov', 'thereaft']), WordList(['thereaft', 'alia']), WordList(['alia', 'pluni']), WordList(['pluni', 'fieri']), WordList(['fieri', 'facial']), WordList(['facial', '’']), WordList(['’', 'issu']), WordList(['issu', 'regularli']), WordList(['regularli', 'time']), WordList(['time', 'made']), WordList(['made', 'cotton']), WordList(['cotton', 'levi']), WordList(['levi', 'growl']), WordList(['growl', 'plantat']), WordList(['plantat', 'harrison']), WordList(['harrison', 'cultiv']), WordList(['cultiv', 'hand']), WordList(['hand', 'servic']), WordList(['servic', 'prove']), WordList(['prove', 'product']), WordList(['product', 'written']), WordList(['written', 'contract']), WordList(['contract', 'harrison']), WordList(['harrison', 'twentysecond']), WordList(['twentysecond', 'may']), WordList(['may', '1840']), WordList(['1840', 'consider']), WordList(['consider', 'involv']), WordList(['involv', 'indors']), WordList(['indors', 'button']), WordList(['button', 'harrison']), WordList(['harrison', 'sumter']), WordList(['sumter', 'counti']), WordList(['counti', 'expo']), WordList(['expo', 'amount']), WordList(['amount', 'upward']), WordList(['upward', 'fourteen']), WordList(['fourteen', 'thousand']), WordList(['thousand', 'dollar']), WordList(['dollar', 'bargain']), WordList(['bargain', 'sold']), WordList(['sold', 'cotton']), WordList(['cotton', 'c']), WordList(['c', 'consist']), WordList(['consist', 'one']), WordList(['one', 'hundr']), WordList(['hundr', 'twenti']), WordList(['twenti', 'acr']), WordList(['acr', 'c']), WordList(['c', 'allen']), WordList(['allen', 'harrison']), WordList(['harrison', 'promis']), WordList(['promis', 'oblig']), WordList(['oblig', 'give']), WordList(['give', 'use']), WordList(['use', 'time']), WordList(['time', 'save']), WordList(['save', 'suffer']), WordList(['suffer', 'indors']), WordList(['indors', 'matur']), WordList(['matur', 'gather']), WordList(['gather', 'undertook']), WordList(['undertook', 'deliv']), WordList(['deliv', 'cotton']), WordList(['cotton', 'gainesvil']), WordList(['gainesvil', 'came']), WordList(['came', 'tennesse']), WordList(['tennesse', 'resid']), WordList(['resid', 'first']), WordList(['first', 'septemb']), WordList(['septemb', '1840']), WordList(['1840', 'bring']), WordList(['bring', 'three']), WordList(['three', 'four']), WordList(['four', 'white']), WordList(['white', 'labor']), WordList(['labor', 'took']), WordList(['took', 'posse']), WordList(['posse', 'slave']), WordList(['slave', 'latter']), WordList(['latter', 'white']), WordList(['white', 'labor']), WordList(['labor', 'gather']), WordList(['gather', 'cotton']), WordList(['cotton', 'prepar']), WordList(['prepar', 'market']), WordList(['market', 'levi']), WordList(['levi', 'warehous']), WordList(['warehous', 'gainesvil']), WordList(['gainesvil', 'plaintiff']), WordList(['plaintiff', 'prove']), WordList(['prove', 'harrison']), WordList(['harrison', 'took']), WordList(['took', 'posse']), WordList(['posse', 'absent']), WordList(['absent', 'dispos']), WordList(['dispos', 'without']), WordList(['without', 'consent']), WordList(['consent', 'admit']), WordList(['admit', 'contract']), WordList(['contract', 'made']), WordList(['made', 'good']), WordList(['good', 'faith'])]\n",
            "Total Items:130\n",
            "[WordList(['r', 'h']), WordList(['h', 'smith']), WordList(['smith', 'plaintiff']), WordList(['plaintiff', 'error']), WordList(['error', 'made']), WordList(['made', 'follow']), WordList(['follow', 'point']), WordList(['point', 'harrison']), WordList(['harrison', 'must']), WordList(['must', 'may']), WordList(['may', '1840']), WordList(['1840', 'immatur']), WordList(['immatur', 'state']), WordList(['state', 'insist']), WordList(['insist', 'subject']), WordList(['subject', 'sale']), WordList(['sale', '2']), WordList(['2', 'common']), WordList(['common', 'law']), WordList(['law', 'could']), WordList(['could', 'levi']), WordList(['levi', 'sold']), WordList(['sold', '1']), WordList(['1', 'talk']), WordList(['talk', 'rep']), WordList(['rep', '361']), WordList(['361', '1']), WordList(['1', 'boy']), WordList(['boy', 'p']), WordList(['p', 'rep']), WordList(['rep', '307']), WordList(['307', '6']), WordList(['6', 'east']), WordList(['east', '’']), WordList(['’', 's']), WordList(['s', 'rep']), WordList(['rep', '604']), WordList(['604', 'note']), WordList(['note', '1']), WordList(['1', '2']), WordList(['2', 'john']), WordList(['john', 'rep']), WordList(['rep', '418']), WordList(['418', '422']), WordList(['422', '7']), WordList(['7', 'mass']), WordList(['mass', 'rep']), WordList(['rep', '34']), WordList(['34', 'statu']), WordList(['statu', 'ask']), WordList(['ask', 'dig']), WordList(['dig', '§']), WordList(['§', '41']), WordList(['41', 'p']), WordList(['p', '167']), WordList(['167', 'forbid']), WordList(['forbid', '742']), WordList(['742', 'receiv']), WordList(['receiv', 'strict']), WordList(['strict', 'construct']), WordList(['construct', 'mere']), WordList(['mere', 'inhibit']), WordList(['inhibit', 'attach']), WordList(['attach', 'sale']), WordList(['sale', 'may']), WordList(['may', 'made']), WordList(['made', 'matur']), WordList(['matur', 'gather']), WordList(['gather', '3']), WordList(['3', 'contract']), WordList(['contract', 'purport']), WordList(['purport', 'convey']), WordList(['convey', 'mere']), WordList(['mere', 'executor']), WordList(['executor', 'agreement']), WordList(['agreement', 'requir']), WordList(['requir', 'act']), WordList(['act', 'done']), WordList(['done', 'harrison']), WordList(['harrison', 'order']), WordList(['order', 'invest']), WordList(['invest', 'properti']), WordList(['properti', 'chit']), WordList(['chit', 'con']), WordList(['con', '112']), WordList(['112', '207']), WordList(['207', '3']), WordList(['3', 'john']), WordList(['john', 'rep']), WordList(['rep', '338']), WordList(['338', '424']), WordList(['424', '5']), WordList(['5', 'went']), WordList(['went', 'rep']), WordList(['rep', '26']), WordList(['26', '13']), WordList(['13', 'john']), WordList(['john', 'rep']), WordList(['rep', '235']), WordList(['235', '8']), WordList(['8', 'down']), WordList(['down', 'rep']), WordList(['rep', '693']), WordList(['693', 'act']), WordList(['act', 'done']), WordList(['done', 'matter']), WordList(['matter', 'gather']), WordList(['gather', 'liabl']), WordList(['liabl', 'seiz']), WordList(['seiz', 'harrison']), WordList(['harrison', '’']), WordList(['’', 's']), WordList(['s', 'debt']), WordList(['debt', 'chanceri']), WordList(['chanceri', 'would']), WordList(['would', 'compel']), WordList(['compel', 'specif']), WordList(['specif', 'perform']), WordList(['perform', 'contract']), WordList(['contract', 'claimant']), WordList(['claimant', '’']), WordList(['’', 's']), WordList(['s', 'instanc']), WordList(['instanc', '4']), WordList(['4', 'charg']), WordList(['charg', 'also']), WordList(['also', 'objection']), WordList(['objection', 'decid']), WordList(['decid', 'disput']), WordList(['disput', 'fact'])]\n",
            "Total Items:120\n",
            "[WordList(['doubt', 'exist']), WordList(['exist', 'subject']), WordList(['subject', 'matter']), WordList(['matter', 'sale']), WordList(['sale', 'mortgag']), WordList(['mortgag', 'contract']), WordList(['contract', 'interest']), WordList(['interest', 'vest']), WordList(['vest', 'posse']), WordList(['posse', 'either']), WordList(['either', 'immedi']), WordList(['immedi', 'futur']), WordList(['futur', 'time']), WordList(['time', 'proposit']), WordList(['proposit', 'frequent']), WordList(['frequent', 'assum']), WordList(['assum', 'unquestion']), WordList(['unquestion', 'point']), WordList(['point', 'inquiri']), WordList(['inquiri', 'gener']), WordList(['gener', 'whether']), WordList(['whether', 'statut']), WordList(['statut', 'fraud']), WordList(['fraud', '29']), WordList(['29', 'cha']), WordList(['cha', '2']), WordList(['2', 'mere']), WordList(['mere', 'chattel']), WordList(['chattel', 'transferr']), WordList(['transferr', 'patrol']), WordList(['patrol', 'without']), WordList(['without', 'write']), WordList(['write', 'chatti']), WordList(['chatti', 'con']), WordList(['con', '2412']), WordList(['2412', 'while']), WordList(['while', 'foot']), WordList(['foot', '2']), WordList(['2', 'john']), WordList(['john', 'rep']), WordList(['rep', '422']), WordList(['422', 'stewart']), WordList(['stewart', 'doughi']), WordList(['doughi', '9']), WordList(['9', 'john']), WordList(['john', 'rep']), WordList(['rep', '112']), WordList(['112', '743']), WordList(['743', 'austin']), WordList(['austin', 'lawyer']), WordList(['lawyer', '9']), WordList(['9', 'cow']), WordList(['cow', 'rep']), WordList(['rep', '39']), WordList(['39', 'see']), WordList(['see', 'also']), WordList(['also', 'reveri']), WordList(['reveri', 'lee']), WordList(['lee', 'alton']), WordList(['alton', 'last']), WordList(['last', 'term']), WordList(['term', 'contract']), WordList(['contract', 'set']), WordList(['set', 'bill']), WordList(['bill', 'except']), WordList(['except', 'inclin']), WordList(['inclin', 'think']), WordList(['think', 'evid']), WordList(['evid', 'rather']), WordList(['rather', 'mortgag']), WordList(['mortgag', 'absolut']), WordList(['absolut', 'sale']), WordList(['sale', 'recit']), WordList(['recit', 'involv']), WordList(['involv', 'indors']), WordList(['indors', 'mercantil']), WordList(['mercantil', 'firm']), WordList(['firm', 'defend']), WordList(['defend', 'partner']), WordList(['partner', 'upward']), WordList(['upward', 'fourteen']), WordList(['fourteen', 'thousand']), WordList(['thousand', 'dollar']), WordList(['dollar', 'estat']), WordList(['estat', 'sheriff']), WordList(['sheriff', '’']), WordList(['’', 's']), WordList(['s', 'hand']), WordList(['hand', 'convey']), WordList(['convey', 'made']), WordList(['made', 'cotton']), WordList(['cotton', 'corn']), WordList(['corn', 'oat']), WordList(['oat', 'grant']), WordList(['grant', 'agre']), WordList(['agre', 'give']), WordList(['give', 'time']), WordList(['time', 'use']), WordList(['use', 'prevent']), WordList(['prevent', 'injuri']), WordList(['injuri', 'indors']), WordList(['indors', 'defend']), WordList(['defend', 'might']), WordList(['might', 'time']), WordList(['time', 'divest']), WordList(['divest', 'interest']), WordList(['interest', 'contract']), WordList(['contract', 'vest']), WordList(['vest', 'discharg']), WordList(['discharg', 'liabil']), WordList(['liabil', 'indors']), WordList(['indors', 'judgment']), WordList(['judgment', 'creditor']), WordList(['creditor', 'might']), WordList(['might', 'satisfi']), WordList(['satisfi', 'gather']), WordList(['gather', 'levi']), WordList(['levi', 'sold']), WordList(['sold', 'fieri']), WordList(['fieri', 'facial'])]\n",
            "Total Items:85\n",
            "[WordList(['previou', 'taken']), WordList(['taken', 'posse']), WordList(['posse', 'prepar']), WordList(['prepar', 'cotton']), WordList(['cotton', 'market']), WordList(['market', 'remov']), WordList(['remov', 'warehous']), WordList(['warehous', 'posse']), WordList(['posse', 'insist']), WordList(['insist', 'trespass']), WordList(['trespass', 'acquir']), WordList(['acquir', 'absenc']), WordList(['absenc', 'defend']), WordList(['defend', 'without']), WordList(['without', 'consent']), WordList(['consent', 'given']), WordList(['given', 'conced']), WordList(['conced', 'fact']), WordList(['fact', 'state']), WordList(['state', 'bill']), WordList(['bill', 'except']), WordList(['except', 'think']), WordList(['think', 'follow']), WordList(['follow', 'posse']), WordList(['posse', 'nullifi']), WordList(['nullifi', 'must']), WordList(['must', 'consid']), WordList(['consid', 'never']), WordList(['never', 'interf']), WordList(['interf', 'contract']), WordList(['contract', 'contain']), WordList(['contain', 'express']), WordList(['express', 'undertak']), WordList(['undertak', 'give']), WordList(['give', 'time']), WordList(['time', 'might']), WordList(['might', 'requir']), WordList(['requir', 'indemn']), WordList(['indemn', 'took']), WordList(['took', 'posse']), WordList(['posse', 'absenc']), WordList(['absenc', 'grant']), WordList(['grant', 'though']), WordList(['though', 'without']), WordList(['without', 'consent']), WordList(['consent', 'subsequ']), WordList(['subsequ', 'acquiesc']), WordList(['acquiesc', 'infer']), WordList(['infer', 'would']), WordList(['would', 'necessari']), WordList(['necessari', 'act']), WordList(['act', 'approv']), WordList(['approv', 'take']), WordList(['take', 'clear']), WordList(['clear', '744']), WordList(['744', 'law']), WordList(['law', 'seen']), WordList(['seen', 'defend']), WordList(['defend', 'time']), WordList(['time', 'noth']), WordList(['noth', 'mere']), WordList(['mere', 'equit']), WordList(['equit', 'redeem']), WordList(['redeem', 'cotton']), WordList(['cotton', 'pay']), WordList(['pay', 'debt']), WordList(['debt', 'indors']), WordList(['indors', 'posse']), WordList(['posse', 'coupl']), WordList(['coupl', 'equiti']), WordList(['equiti', 'equiti']), WordList(['equiti', 'held']), WordList(['held', 'can']), WordList(['can', 'not']), WordList(['not', 'reach']), WordList(['reach', 'ordinari']), WordList(['ordinari', 'person']), WordList(['person', 'elliott']), WordList(['elliott', 'hayfield']), WordList(['hayfield', '5']), WordList(['5', 'porter']), WordList(['porter', '’']), WordList(['’', 's']), WordList(['s', 'rep']), WordList(['rep', '182'])]\n",
            "Total Items:77\n",
            "[WordList(['5', 'confirm']), WordList(['confirm', 'correct']), WordList(['correct', 'view']), WordList(['view', 'necessari']), WordList(['necessari', 'found']), WordList(['found', 'think']), WordList(['think', 'languag']), WordList(['languag', 'employ']), WordList(['employ', 'legislatur']), WordList(['legislatur', 'sheriff']), WordList(['sheriff', 'forbidden']), WordList(['forbidden', '“']), WordList(['“', 'plant']), WordList(['plant', 'crop']), WordList(['crop', '”']), WordList(['”', 'gather']), WordList(['gather', 'view']), WordList(['view', 'taken']), WordList(['taken', 'major']), WordList(['major', 'correct']), WordList(['correct', 'secur']), WordList(['secur', 'plaintiff']), WordList(['plaintiff', 'levi']), WordList(['levi', 'gather']), WordList(['gather', 'may']), WordList(['may', 'frustrat']), WordList(['frustrat', 'sale']), WordList(['sale', 'defend']), WordList(['defend', 'whilst']), WordList(['whilst', 'immatur']), WordList(['immatur', 'state']), WordList(['state', 'construct']), WordList(['construct', 'put']), WordList(['put', 'upon']), WordList(['upon', 'statut']), WordList(['statut', 'involv']), WordList(['involv', 'singular']), WordList(['singular', 'anim']), WordList(['anim', 'legislatur']), WordList(['legislatur', 'protect']), WordList(['protect', 'debtor']), WordList(['debtor', 'forbidden']), WordList(['forbidden', 'plaintiff']), WordList(['plaintiff', 'sell']), WordList(['sell', 'properti']), WordList(['properti', 'debtor']), WordList(['debtor', 'condit']), WordList(['condit', 'bring']), WordList(['bring', 'valu']), WordList(['valu', 'yet']), WordList(['yet', 'permit']), WordList(['permit', 'debtor']), WordList(['debtor', 'voluntarili']), WordList(['voluntarili', 'sale']), WordList(['sale', 'submit']), WordList(['submit', 'sacrific']), WordList(['sacrific', 'benefit']), WordList(['benefit', 'effect']), WordList(['effect', 'gift']), WordList(['gift', 'defend']), WordList(['defend', 'provid']), WordList(['provid', 'dispos']), WordList(['dispos', 'condit']), WordList(['condit', 'feel']), WordList(['feel', 'thorough']), WordList(['thorough', 'convict']), WordList(['convict', 'intent']), WordList(['intent', 'legislatur']), WordList(['legislatur', 'secur']), WordList(['secur', 'loss']), WordList(['loss', 'prohibit']), WordList(['prohibit', 'sale']), WordList(['sale', 'gather']), WordList(['gather', 'temporari']), WordList(['temporari', 'suspens']), WordList(['suspens', 'sell']), WordList(['sell', 'ceas'])]\n",
            "Total Items:77\n",
            "[WordList(['act', 'must']), WordList(['must', 'consid']), WordList(['consid', 'connect']), WordList(['connect', 'act']), WordList(['act', 'upon']), WordList(['upon', 'subject']), WordList(['subject', 'polici']), WordList(['polici', 'state']), WordList(['state', 'indic']), WordList(['indic', 'statut']), WordList(['statut', 'undeni']), WordList(['undeni', 'properti']), WordList(['properti', 'debtor']), WordList(['debtor', 'real']), WordList(['real', 'person']), WordList(['person', 'legal']), WordList(['legal', 'titl']), WordList(['titl', 'shall']), WordList(['shall', 'subject']), WordList(['subject', 'sale']), WordList(['sale', 'appear']), WordList(['appear', 'would']), WordList(['would', 'difficult']), WordList(['difficult', 'assign']), WordList(['assign', 'reason']), WordList(['reason', 'exempt']), WordList(['exempt', 'speci']), WordList(['speci', 'properti']), WordList(['properti', 'claim']), WordList(['claim', 'judgment']), WordList(['judgment', 'creditor']), WordList(['creditor', 'give']), WordList(['give', 'defend']), WordList(['defend', 'dispos']), WordList(['dispos', 'appear']), WordList(['appear', 'defer']), WordList(['defer', 'argument']), WordList(['argument', 'sheriff']), WordList(['sheriff', 'prohibit']), WordList(['prohibit', 'levi']), WordList(['levi', '“']), WordList(['“', '“']), WordList(['“', 'plant']), WordList(['plant', 'crop']), WordList(['crop', '”']), WordList(['”', 'therefor']), WordList(['therefor', 'lost']), WordList(['lost', 'debtor']), WordList(['debtor', 'sell']), WordList(['sell', 'non']), WordList(['non', 'sequitur']), WordList(['sequitur', 'mischief']), WordList(['mischief', 'statut']), WordList(['statut', 'design']), WordList(['design', 'remedi']), WordList(['remedi', 'sacrific']), WordList(['sacrific', 'would']), WordList(['would', 'necessarili']), WordList(['necessarili', 'made']), WordList(['made', 'sale']), WordList(['sale', 'immatur']), WordList(['immatur', 'statut']), WordList(['statut', 'enabl']), WordList(['enabl', 'debtor']), WordList(['debtor', 'retain']), WordList(['retain', 'matur']), WordList(['matur', 'sever']), WordList(['sever', 'soil']), WordList(['soil', 'put']), WordList(['put', '747']), WordList(['747', 'condit']), WordList(['condit', 'bring']), WordList(['bring', 'valueth']), WordList(['valueth', 'mean']), WordList(['mean', 'time']), WordList(['time', 'continu']), WordList(['continu', 'plaintiff'])]\n",
            "Total Items:55\n",
            "[WordList(['circuit', 'judg']), WordList(['judg', 'may']), WordList(['may', 'mistaken']), WordList(['mistaken', 'law']), WordList(['law', 'suppos']), WordList(['suppos', 'contract']), WordList(['contract', 'sale']), WordList(['sale', 'error']), WordList(['error', 'respect']), WordList(['respect', 'materi']), WordList(['materi', 'whether']), WordList(['whether', 'sale']), WordList(['sale', 'mortgag']), WordList(['mortgag', '746']), WordList(['746', 'seen']), WordList(['seen', 'fact']), WordList(['fact', 'defend']), WordList(['defend', 'interest']), WordList(['interest', 'could']), WordList(['could', 'seiz']), WordList(['seiz', 'sold']), WordList(['sold', 'assumpt']), WordList(['assumpt', 'materi']), WordList(['materi', 'fact']), WordList(['fact', 'charg']), WordList(['charg', 'posse']), WordList(['posse', 'claimant']), WordList(['claimant', 'time']), WordList(['time', 'acquir']), WordList(['acquir', 'gather']), WordList(['gather', 'c']), WordList(['c', 'refer']), WordList(['refer', 'determin']), WordList(['determin', 'juri']), WordList(['juri', 'instruct']), WordList(['instruct', 'find']), WordList(['find', 'accord']), WordList(['accord', 'evid']), WordList(['evid', 'ad']), WordList(['ad', 'ever']), WordList(['ever', 'attach']), WordList(['attach', 'favor']), WordList(['favor', 'plaintiff']), WordList(['plaintiff', 'bone']), WordList(['bone', 'side']), WordList(['side', 'contract']), WordList(['contract', 'conced']), WordList(['conced', 'charg']), WordList(['charg', 'necessari']), WordList(['necessari', 'point']), WordList(['point', 'could']), WordList(['could', 'proprieti']), WordList(['proprieti', 'enter']), WordList(['enter', 'inquiri']), WordList(['inquiri', 'juri'])]\n",
            "Total Items:44\n",
            "[WordList(['consid', 'write']), WordList(['write', 'assert']), WordList(['assert', 'mortgag']), WordList(['mortgag', 'power']), WordList(['power', 'take']), WordList(['take', 'posse']), WordList(['posse', 'time']), WordList(['time', 'year']), WordList(['year', 'unless']), WordList(['unless', 'reliev']), WordList(['reliev', 'engag']), WordList(['engag', 'indors']), WordList(['indors', 'pretend']), WordList(['pretend', 'liabil']), WordList(['liabil', 'satisfi']), WordList(['satisfi', 'admit']), WordList(['admit', 'parti']), WordList(['parti', 'act']), WordList(['act', 'good']), WordList(['good', 'faith']), WordList(['faith', 'dri']), WordList(['dri', 'question']), WordList(['question', 'law']), WordList(['law', 'whether']), WordList(['whether', 'plaintiff']), WordList(['plaintiff', 'shall']), WordList(['shall', 'prevail']), WordList(['prevail', 'assum']), WordList(['assum', 'present']), WordList(['present', 'plaintiff']), WordList(['plaintiff', 'oper']), WordList(['oper', 'upon']), WordList(['upon', 'plant']), WordList(['plant', 'previou']), WordList(['previou', 'contract']), WordList(['contract', 'may']), WordList(['may', '1840']), WordList(['1840', 'inquir']), WordList(['inquir', 'whether']), WordList(['whether', 'defend']), WordList(['defend', 'interest']), WordList(['interest', 'could']), WordList(['could', 'levi']), WordList(['levi', 'sold'])]\n",
            "Total Items:27\n",
            "[WordList(['charg', 'juri']), WordList(['juri', 'plaintiff']), WordList(['plaintiff', 'virtu']), WordList(['virtu', 'judgment']), WordList(['judgment', 'harrison']), WordList(['harrison', 'convey']), WordList(['convey', 'without']), WordList(['without', 'manner']), WordList(['manner', 'restrain']), WordList(['restrain', 'write']), WordList(['write', 'ad']), WordList(['ad', 'sale']), WordList(['sale', 'fieri']), WordList(['fieri', 'facial']), WordList(['facial', 'would']), WordList(['would', 'attach']), WordList(['attach', 'upon']), WordList(['upon', 'gather']), WordList(['gather', 'yet']), WordList(['yet', 'obtain']), WordList(['obtain', 'posse']), WordList(['posse', 'first']), WordList(['first', 'septemb']), WordList(['septemb', 'control']), WordList(['control', 'gather']), WordList(['gather', 'attach']), WordList(['attach', 'subject'])]\n"
          ],
          "name": "stdout"
        }
      ]
    },
    {
      "cell_type": "markdown",
      "metadata": {
        "id": "BBiC4E_kefvV",
        "colab_type": "text"
      },
      "source": [
        "# 2. Python Regular Expression"
      ]
    },
    {
      "cell_type": "markdown",
      "metadata": {
        "id": "Z1QJ-UwCenvN",
        "colab_type": "text"
      },
      "source": [
        "[link text](https://)## 2.1 Write a Python program to remove leading zeros from an IP address. \n",
        "\n",
        "ip = \"260.08.094.109\""
      ]
    },
    {
      "cell_type": "code",
      "metadata": {
        "id": "wSv6fVhOfFmv",
        "colab_type": "code",
        "colab": {
          "base_uri": "https://localhost:8080/",
          "height": 34
        },
        "outputId": "5f79c146-15f8-44f6-8eb7-a0355fa89972"
      },
      "source": [
        "# 2.1\n",
        "import re\n",
        "ip = \"260.08.094.109\"\n",
        "clean_ip = re.sub('\\.[0]*', '.', ip)\n",
        "print(clean_ip)"
      ],
      "execution_count": 379,
      "outputs": [
        {
          "output_type": "stream",
          "text": [
            "260.8.94.109\n"
          ],
          "name": "stdout"
        }
      ]
    },
    {
      "cell_type": "markdown",
      "metadata": {
        "id": "PXRjaHzrfKAy",
        "colab_type": "text"
      },
      "source": [
        "## 2.2 Write a Python Program to extract all the years from the following sentence.\n",
        "\n",
        "sentence = \"The 2010s were a dramatic decade, filled with ups and downs, more than 1000 stroies have happened. As the decade comes to a close, Insider took a look back at some of the biggest headline-grabbing stories, from 2010 to 2019. The result was 119 news stories that ranged from the heartwarming rescue of a Thai boys' soccer team from a flooded cave to the divisive election of President Donald Trump.\""
      ]
    },
    {
      "cell_type": "code",
      "metadata": {
        "id": "7xdJpDx9gjbX",
        "colab_type": "code",
        "colab": {
          "base_uri": "https://localhost:8080/",
          "height": 34
        },
        "outputId": "e14a0271-38ec-4f9c-d1eb-35f77516efec"
      },
      "source": [
        "# 2.2\n",
        "import re\n",
        "sentence = \"The 2010s were a dramatic decade, filled with ups and downs, more than 1000 stroies have happened. As the decade comes to a close, Insider took a look back at some of the biggest headline-grabbing stories, from 2010 to 2019. The result was 119 news stories that ranged from the heartwarming rescue of a Thai boys' soccer team from a flooded cave to the divisive election of President Donald Trump.\"\n",
        "years = re.findall(r\"[\\d]{4}\", sentence)\n",
        "year = []\n",
        "\n",
        "for num in years:\n",
        "  if (num.startswith('20')):\n",
        "      year.append(num)\n",
        "\n",
        "print(year)\n"
      ],
      "execution_count": 380,
      "outputs": [
        {
          "output_type": "stream",
          "text": [
            "['2010', '2010', '2019']\n"
          ],
          "name": "stdout"
        }
      ]
    }
  ]
}